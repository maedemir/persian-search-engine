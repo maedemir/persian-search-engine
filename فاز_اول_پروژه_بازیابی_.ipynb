{
  "cells": [
    {
      "cell_type": "code",
      "execution_count": null,
      "metadata": {
        "id": "yWCC1FwVEVMO",
        "colab": {
          "base_uri": "https://localhost:8080/"
        },
        "outputId": "d0114a78-cb6c-47f1-d79a-a83bc9edb76c"
      },
      "outputs": [
        {
          "output_type": "stream",
          "name": "stdout",
          "text": [
            "Looking in indexes: https://pypi.org/simple, https://us-python.pkg.dev/colab-wheels/public/simple/\n",
            "Collecting parsivar\n",
            "  Downloading parsivar-0.2.3.tar.gz (36.2 MB)\n",
            "\u001b[2K     \u001b[90m━━━━━━━━━━━━━━━━━━━━━━━━━━━━━━━━━━━━━━━━\u001b[0m \u001b[32m36.2/36.2 MB\u001b[0m \u001b[31m28.4 MB/s\u001b[0m eta \u001b[36m0:00:00\u001b[0m\n",
            "\u001b[?25h  Preparing metadata (setup.py) ... \u001b[?25l\u001b[?25hdone\n",
            "Collecting nltk==3.4.5\n",
            "  Downloading nltk-3.4.5.zip (1.5 MB)\n",
            "\u001b[2K     \u001b[90m━━━━━━━━━━━━━━━━━━━━━━━━━━━━━━━━━━━━━━━━\u001b[0m \u001b[32m1.5/1.5 MB\u001b[0m \u001b[31m67.3 MB/s\u001b[0m eta \u001b[36m0:00:00\u001b[0m\n",
            "\u001b[?25h  Preparing metadata (setup.py) ... \u001b[?25l\u001b[?25hdone\n",
            "Requirement already satisfied: six in /usr/local/lib/python3.8/dist-packages (from nltk==3.4.5->parsivar) (1.15.0)\n",
            "Building wheels for collected packages: parsivar, nltk\n",
            "  Building wheel for parsivar (setup.py) ... \u001b[?25l\u001b[?25hdone\n",
            "  Created wheel for parsivar: filename=parsivar-0.2.3-py3-none-any.whl size=36492971 sha256=25eae2699c09ed73b0a26a6229daa91ac2b63f7d2175d72613287e7ce6edbebc\n",
            "  Stored in directory: /root/.cache/pip/wheels/54/0a/38/7d0b1aabbd644340a94fb8685fd20d9f35814d735973d07f40\n",
            "  Building wheel for nltk (setup.py) ... \u001b[?25l\u001b[?25hdone\n",
            "  Created wheel for nltk: filename=nltk-3.4.5-py3-none-any.whl size=1449922 sha256=2ef647d73af6a0fe7ad342e3617f14b07a6211e80c2ad93b8ad551c1fb519511\n",
            "  Stored in directory: /root/.cache/pip/wheels/23/18/48/8fd6ec11da38406b309470566d6f099c04805d2ec61d7829e7\n",
            "Successfully built parsivar nltk\n",
            "Installing collected packages: nltk, parsivar\n",
            "  Attempting uninstall: nltk\n",
            "    Found existing installation: nltk 3.7\n",
            "    Uninstalling nltk-3.7:\n",
            "      Successfully uninstalled nltk-3.7\n",
            "Successfully installed nltk-3.4.5 parsivar-0.2.3\n",
            "Looking in indexes: https://pypi.org/simple, https://us-python.pkg.dev/colab-wheels/public/simple/\n",
            "Collecting stopwordsiso\n",
            "  Downloading stopwordsiso-0.6.1-py3-none-any.whl (73 kB)\n",
            "\u001b[2K     \u001b[90m━━━━━━━━━━━━━━━━━━━━━━━━━━━━━━━━━━━━━━━━\u001b[0m \u001b[32m73.5/73.5 KB\u001b[0m \u001b[31m7.1 MB/s\u001b[0m eta \u001b[36m0:00:00\u001b[0m\n",
            "\u001b[?25hInstalling collected packages: stopwordsiso\n",
            "Successfully installed stopwordsiso-0.6.1\n"
          ]
        }
      ],
      "source": [
        "!pip install parsivar\n",
        "!pip install stopwordsiso"
      ]
    },
    {
      "cell_type": "code",
      "execution_count": null,
      "metadata": {
        "id": "4cei8GjREZ7F"
      },
      "outputs": [],
      "source": [
        "import json\n",
        "import parsivar\n",
        "from parsivar import Normalizer\n",
        "from parsivar import Tokenizer\n",
        "from parsivar import FindStems\n",
        "from stopwordsiso import stopwords\n",
        "import re\n",
        "from string import punctuation\n",
        "import pandas as pd\n",
        "import pickle"
      ]
    },
    {
      "cell_type": "code",
      "execution_count": null,
      "metadata": {
        "id": "8MJ-iet2pvtk",
        "colab": {
          "base_uri": "https://localhost:8080/"
        },
        "outputId": "3290e313-be14-4de0-dd35-d124f826766f"
      },
      "outputs": [
        {
          "output_type": "stream",
          "name": "stdout",
          "text": [
            "Mounted at /content/drive\n"
          ]
        }
      ],
      "source": [
        "# loading the \n",
        "from google.colab import drive\n",
        "drive.mount('/content/drive')"
      ]
    },
    {
      "cell_type": "code",
      "execution_count": null,
      "metadata": {
        "id": "HYe8BzV3EbUc",
        "colab": {
          "base_uri": "https://localhost:8080/"
        },
        "outputId": "d6ba8a90-5c9d-4f2f-a0db-321f4faf2997"
      },
      "outputs": [
        {
          "output_type": "execute_result",
          "data": {
            "text/plain": [
              "(6, 12202)"
            ]
          },
          "metadata": {},
          "execution_count": 5
        }
      ],
      "source": [
        "# vars\n",
        "IR_data_news = pd.read_json('/content/drive/MyDrive/IR_data_news_12k.json')\n",
        "positional_index_path = ('/content/drive/MyDrive/positional_index.txt')\n",
        "preprocessed_news_path = ('/content/drive/MyDrive/preprocessed_news.txt')\n",
        "IR_data_news.shape"
      ]
    },
    {
      "cell_type": "code",
      "source": [
        "IR_data_news[0]"
      ],
      "metadata": {
        "colab": {
          "base_uri": "https://localhost:8080/"
        },
        "id": "VfaFqRgbtny8",
        "outputId": "f9bb6000-e933-40fe-80af-34c50bb4797a"
      },
      "execution_count": null,
      "outputs": [
        {
          "output_type": "execute_result",
          "data": {
            "text/plain": [
              "title          اعلام زمان قرعه کشی جام باشگاه های فوتسال آسیا\n",
              "content     \\nبه گزارش خبرگزاری فارس، کنفدراسیون فوتبال آس...\n",
              "tags        [اعلام زمان, قرعه‌کشی, قرعه‌کشی جام, قرعه‌کشی ...\n",
              "date                                     3/15/2022 5:59:27 PM\n",
              "url         https://www.farsnews.ir/news/14001224001005/اع...\n",
              "category                                               sports\n",
              "Name: 0, dtype: object"
            ]
          },
          "metadata": {},
          "execution_count": 5
        }
      ]
    },
    {
      "cell_type": "code",
      "execution_count": null,
      "metadata": {
        "id": "1Zs0q-EoEc5V",
        "colab": {
          "base_uri": "https://localhost:8080/"
        },
        "outputId": "c2ccab7e-a32d-46c7-ef96-1943b4cca726"
      },
      "outputs": [
        {
          "output_type": "stream",
          "name": "stdout",
          "text": [
            "['گزارش', 'خبرگزاری', 'فارس', 'کنفدراسیون', 'فوتبال', 'آسیا', 'AFC', 'نامه', 'رسمی', 'فدراسیون', 'فوتبال', 'ایران', 'باشگاه', 'گیتی', 'پسند', 'قرعه', 'کش', 'جام', 'باشگاه', 'فوتسال', 'آسیا', 'رسما', 'کرد', 'اساس', '25', 'فروردین', 'ماه', '1401', 'مراسم', 'قرعه', 'کش', 'جام', 'باشگاه', 'فوتسال', 'آسیا', 'مالزی', 'برگزار', 'باشگاه', 'گیتی', 'پسند', 'بعنوان', 'قهرمان', 'فوتسال', 'ایران', 'سال', '1400', 'این', 'مسابقات', 'پیدا', 'اس', 'از', 'این', 'گیتی', 'پسند', 'تجربه', '3', 'دوره', 'حضور', 'جام', 'باشگاه', 'فوتسال', 'آسیا', 'داشته', 'هر', 'سه', 'دوره', 'فینال', 'مسابقات', 'پیدا', 'عنوان', 'قهرمانی', 'و', 'دو', 'مقام', 'دومی', 'بدست', 'اس', 'انتهای', 'پیام']\n"
          ]
        }
      ],
      "source": [
        "def remove_punctuation(text):\n",
        "    new_text = re.sub(f'[{punctuation}؟،٪×÷.»«()+:إ؛]', '', text)\n",
        "    return new_text\n",
        " \n",
        "def normalization(text):\n",
        "    normalizer = Normalizer()\n",
        "    normalized_text = normalizer.normalize(text)\n",
        "    return normalized_text\n",
        "    \n",
        "def tokenizer(text):\n",
        "    tokenizer = Tokenizer()\n",
        "    tokens = tokenizer.tokenize_words(text)\n",
        "    return tokens\n",
        "\n",
        "def delete_stopWords(tokens):\n",
        "    stop_words = stopwords('fa')\n",
        "    for i in tokens:\n",
        "        if i in stop_words:\n",
        "            tokens.remove(i)\n",
        "    return tokens\n",
        "    \n",
        "def stemming(tokens):\n",
        "    new_tokens = []\n",
        "    my_stemmer = FindStems()\n",
        "    for t in tokens:\n",
        "        stems = my_stemmer.convert_to_stem(t)\n",
        "        stems = stems.split(\"&\")\n",
        "        if len(stems) == 2:\n",
        "          new_tokens.append(stems[1])\n",
        "        else:\n",
        "          new_tokens.append(stems[0])\n",
        "    return new_tokens\n",
        "\n",
        "def preprocess_text(text):\n",
        "   text = remove_punctuation(text)\n",
        "   normalized_text = normalization(text)\n",
        "   tokens = tokenizer(normalized_text)\n",
        "   tokens = delete_stopWords(tokens)\n",
        "   stems = stemming(tokens)\n",
        "   return stems\n",
        "\n",
        "print(preprocess_text(IR_data_news[0]['content']))"
      ]
    },
    {
      "cell_type": "code",
      "execution_count": null,
      "metadata": {
        "id": "CsNm4-Gg6xXL"
      },
      "outputs": [],
      "source": [
        "preprocessed_news = []\n",
        "for i in range(IR_data_news.shape[1]):\n",
        "  preprocessed_news.append(preprocess_text(IR_data_news[i]['content']))"
      ]
    },
    {
      "cell_type": "code",
      "execution_count": null,
      "metadata": {
        "id": "4ehhs1ByJRJS"
      },
      "outputs": [],
      "source": [
        "def already_in_postings_list(postings, doc_id):\n",
        "  for p in postings:\n",
        "    if p == doc_id:\n",
        "      return True\n",
        "  return False"
      ]
    },
    {
      "cell_type": "markdown",
      "metadata": {
        "id": "PHUCkf_jRVyA"
      },
      "source": [
        "![telegram-cloud-photo-size-4-5947237860857985359-y.jpg](data:image/jpeg;base64,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)"
      ]
    },
    {
      "cell_type": "code",
      "execution_count": null,
      "metadata": {
        "id": "bFRQWaGu2bFK"
      },
      "outputs": [],
      "source": [
        "def create_positional_inverted_index(data, num):\n",
        "  positional_inverted_index = {}\n",
        "  #IR_data_news.shape[1]\n",
        "  for doc_id in range(num):\n",
        "    news_tokens = preprocess_text(data[doc_id]['content'])\n",
        "    for token_position, token in enumerate(news_tokens):\n",
        "      if positional_inverted_index.get(token) is None:\n",
        "        positional_inverted_index[token]= [1,{}]\n",
        "        positional_inverted_index[token][1][doc_id] = [1,[token_position]]\n",
        "      else:\n",
        "        postings = positional_inverted_index[token][1].keys()\n",
        "        if not already_in_postings_list(postings, doc_id):\n",
        "          positional_inverted_index[token][0] += 1\n",
        "          positional_inverted_index[token][1][doc_id] = [1, [token_position]]\n",
        "        else:\n",
        "          positional_inverted_index[token][0] += 1\n",
        "          positional_inverted_index[token][1][doc_id][0]+=1\n",
        "          positional_inverted_index[token][1][doc_id][1].append(token_position)\n",
        "  return positional_inverted_index\n",
        "\n",
        "        "
      ]
    },
    {
      "cell_type": "code",
      "execution_count": null,
      "metadata": {
        "id": "u40hTq6kdUq9"
      },
      "outputs": [],
      "source": [
        "positional_index = create_positional_inverted_index(IR_data_news, IR_data_news.shape[1])"
      ]
    },
    {
      "cell_type": "code",
      "execution_count": null,
      "metadata": {
        "id": "7JvzN1jMhGku"
      },
      "outputs": [],
      "source": [
        "# saving positional inverted index and preprocessed_news in colab\n",
        "with open(\"positional_index.txt\", \"wb\") as myFile:\n",
        "    pickle.dump(positional_index, myFile)\n",
        "with open(\"preprocessed_news.txt\", \"wb\") as myFile2:\n",
        "    pickle.dump(preprocessed_news, myFile2)"
      ]
    },
    {
      "cell_type": "code",
      "source": [
        "# loading positional index from google drive\n",
        "with open(positional_index_path, \"rb\") as myFile:\n",
        "    saved_positional_index = pickle.load(myFile)\n",
        "with open(preprocessed_news_path, \"rb\") as myFile:\n",
        "    saved_preprocessed_news = pickle.load(myFile)"
      ],
      "metadata": {
        "id": "IE4y2X8xGNGc"
      },
      "execution_count": null,
      "outputs": []
    },
    {
      "cell_type": "code",
      "source": [
        "def simple_query(query, positional_index):\n",
        "  ranked_docs = {}\n",
        "  query_tokens = preprocess_text(query)\n",
        "  for token in query_tokens:\n",
        "    if token in list(positional_index.keys()):\n",
        "      docs = list(positional_index[token][1].keys())\n",
        "      for i in docs:\n",
        "        # token_frequency_in_doc = positional_index[token][1][i][0]\n",
        "        # doc_length = preprocessed_news[i]\n",
        "        # value = token_frequency_in_doc/doc_length\n",
        "        if i not in list(ranked_docs.keys()):\n",
        "          ranked_docs[i] = 1\n",
        "        else:\n",
        "          ranked_docs[i] += 1\n",
        "  final = sorted(ranked_docs.items(), key=lambda item: item[1], reverse=True)\n",
        "  # for i in final[:15]:\n",
        "  #   print(IR_data_news[i[0]]['title'])\n",
        "  #   print(IR_data_news[i[0]]['url'])\n",
        "  return final[:100]"
      ],
      "metadata": {
        "id": "kT_IJw2NDAwj"
      },
      "execution_count": null,
      "outputs": []
    },
    {
      "cell_type": "code",
      "source": [
        "simple_query('آلوده تهران شهر', saved_positional_index)"
      ],
      "metadata": {
        "colab": {
          "base_uri": "https://localhost:8080/"
        },
        "id": "NhFVBozvuBn0",
        "outputId": "c2db1b8f-7fc0-41f1-c81e-e053d671e167"
      },
      "execution_count": null,
      "outputs": [
        {
          "output_type": "execute_result",
          "data": {
            "text/plain": [
              "[(8282, 3),\n",
              " (9403, 3),\n",
              " (10169, 3),\n",
              " (10790, 3),\n",
              " (10968, 3),\n",
              " (11649, 3),\n",
              " (4788, 2),\n",
              " (6960, 2),\n",
              " (8981, 2),\n",
              " (9687, 2),\n",
              " (10286, 2),\n",
              " (10633, 2),\n",
              " (10852, 2),\n",
              " (11437, 2),\n",
              " (11457, 2),\n",
              " (11474, 2),\n",
              " (12038, 2),\n",
              " (12076, 2),\n",
              " (12154, 2),\n",
              " (8, 2),\n",
              " (16, 2),\n",
              " (48, 2),\n",
              " (55, 2),\n",
              " (56, 2),\n",
              " (64, 2),\n",
              " (89, 2),\n",
              " (163, 2),\n",
              " (275, 2),\n",
              " (277, 2),\n",
              " (278, 2),\n",
              " (299, 2),\n",
              " (320, 2),\n",
              " (350, 2),\n",
              " (352, 2),\n",
              " (372, 2),\n",
              " (387, 2),\n",
              " (412, 2),\n",
              " (478, 2),\n",
              " (495, 2),\n",
              " (552, 2),\n",
              " (568, 2),\n",
              " (575, 2),\n",
              " (588, 2),\n",
              " (697, 2),\n",
              " (717, 2),\n",
              " (758, 2),\n",
              " (767, 2),\n",
              " (797, 2),\n",
              " (819, 2),\n",
              " (821, 2),\n",
              " (843, 2),\n",
              " (866, 2),\n",
              " (886, 2),\n",
              " (888, 2),\n",
              " (916, 2),\n",
              " (940, 2),\n",
              " (1116, 2),\n",
              " (1167, 2),\n",
              " (1211, 2),\n",
              " (1241, 2),\n",
              " (1243, 2),\n",
              " (1273, 2),\n",
              " (1276, 2),\n",
              " (1306, 2),\n",
              " (1322, 2),\n",
              " (1386, 2),\n",
              " (1489, 2),\n",
              " (1526, 2),\n",
              " (1557, 2),\n",
              " (1565, 2),\n",
              " (1603, 2),\n",
              " (1624, 2),\n",
              " (1633, 2),\n",
              " (1647, 2),\n",
              " (1782, 2),\n",
              " (1959, 2),\n",
              " (1962, 2),\n",
              " (1976, 2),\n",
              " (1995, 2),\n",
              " (2014, 2),\n",
              " (2213, 2),\n",
              " (2219, 2),\n",
              " (2334, 2),\n",
              " (2366, 2),\n",
              " (2395, 2),\n",
              " (2398, 2),\n",
              " (2439, 2),\n",
              " (2485, 2),\n",
              " (2545, 2),\n",
              " (2598, 2),\n",
              " (2616, 2),\n",
              " (2641, 2),\n",
              " (2690, 2),\n",
              " (2722, 2),\n",
              " (2758, 2),\n",
              " (2771, 2),\n",
              " (2862, 2),\n",
              " (2987, 2),\n",
              " (3023, 2),\n",
              " (3037, 2)]"
            ]
          },
          "metadata": {},
          "execution_count": 357
        }
      ]
    },
    {
      "cell_type": "code",
      "source": [
        "def simple_query_with_not(not_words, positional_index, retrived_docs):\n",
        "  for not_word in not_words:\n",
        "    for (i, j) in retrived_docs:\n",
        "      if i in positional_index[not_word][1].keys():\n",
        "        retrived_docs.remove((i,j))\n",
        "  # for i in retrived_docs[:15]:\n",
        "  #   print(IR_data_news[i[0]]['title'])\n",
        "  #   print(IR_data_news[i[0]]['url'])\n",
        "  return retrived_docs"
      ],
      "metadata": {
        "id": "Sx6Ytl-eHZtp"
      },
      "execution_count": null,
      "outputs": []
    },
    {
      "cell_type": "code",
      "source": [
        "res = simple_query('آلوده شهر', saved_positional_index)"
      ],
      "metadata": {
        "colab": {
          "base_uri": "https://localhost:8080/"
        },
        "id": "LlrN1-VV13Iu",
        "outputId": "a3de9432-e555-45dd-da5c-0c3b7c44c366"
      },
      "execution_count": null,
      "outputs": [
        {
          "output_type": "stream",
          "name": "stdout",
          "text": [
            "استانداران خود را مسئول تولید علم، فناوری و ثروت در کشور بدانند\n",
            "https://www.farsnews.ir/news/14001221001163/استانداران-خود-را-مسئول-تولید-علم-فناوری-و-ثروت-در-کشور-بدانند\n",
            "خطیب جمعه تهران: سازمان‌ همکاری اسلامی در برابر کشتار مردم یمن سکوت کرده است\n",
            "https://www.farsnews.ir/news/14001108000202/خطیب-جمعه-تهران-سازمان‌-همکاری-اسلامی-در-برابر-کشتار-مردم-یمن-سکوت\n",
            "فتنه 88؛ گناه نابخشودنی| خرداد پر از حادثه؛ دعوت به قانون‌گریزی در لفافه بیانیه‌های قانونمدارانه\n",
            "https://www.farsnews.ir/news/14001002000543/فتنه-گناه-نابخشودنی|-خرداد-پر-از-حادثه-دعوت-به-قانون‌گریزی-در-لفافه\n",
            "نباید مسائل روزمره دولت را از اصلاحات ساختاری باز بدارد/ دولت مگاپروژه‌ها را کلید بزند\n",
            "https://www.farsnews.ir/news/14000915000397/نباید-مسائل-روزمره-دولت-را-از-اصلاحات-ساختاری-باز-بدارد-دولت\n",
            "نماینده اتحادیه دانشجویان مستقل: دولت و مجلس فعلی میراث‌دار 8 سال جریان پرمدعا و بی‌عمل هستند\n",
            "https://www.farsnews.ir/news/14000915000405/نماینده-اتحادیه-دانشجویان-مستقل-دولت-و-مجلس-فعلی-میراث‌دار-سال-جریان\n",
            "آبان 98| شبیخون دولت اعتدال‌گرایان به اعتماد مردم/ مطالبه دانشگاهیان برای محاکمه دولتمردان سابق\n",
            "https://www.farsnews.ir/news/14000824000529/آبان-9|-شبیخون-دولت-اعتدال‌گرایان-به-اعتماد-مردم-مطالبه-دانشگاهیان\n",
            "کنایه رئیسی به روحانی در سالروز حوادث آبان 98 / مردم را در تصمیمات سهیم می‌کنیم، نه غافلگیر\n",
            "https://www.farsnews.ir/news/14000827000708/کنایه-رئیسی-به-روحانی-در-سالروز-حوادث-آبان-9--مردم-را-در-تصمیمات-سهیم\n",
            "نائب رییس کمیسیون اقتصادی مجلس: روحانی یک خزانه خالی تحویل رئیسی داد /بیش از بیست میلیارد دلار ارز صادراتی به کشور باز نگشته است\n",
            "https://www.farsnews.ir/news/14000816000349/نائب-رییس-کمیسیون-اقتصادی-مجلس-روحانی-یک-خزانه-خالی-تحویل-رئیسی-داد-\n",
            "سیاست رهبر انقلاب در دوران کرونا تقویت خودباوری ملی همزمان بهره‌مندی از دانش جهانی بود\n",
            "https://www.farsnews.ir/news/14000815000399/سیاست-رهبر-انقلاب-در-دوران-کرونا-تقویت-خودباوری-ملی-همزمان-بهره‌مندی\n",
            "قرائت گزارش بررسی عملکرد حسن روحانی در ستاد کرونا/ مردم از عملکرد دولت سابق علیه کرونا ناراضی هستند\n",
            "https://www.farsnews.ir/news/14000811000114/قرائت-گزارش-بررسی-عملکرد-حسن-روحانی-در-ستاد-کرونا-مردم-از-عملکرد-دولت\n",
            "نگاهی به دوپینگ اسکی‌باز ایران؛ مشکلِ عمدی یا دست‌های پشت پرده؟\n",
            "https://www.farsnews.ir/news/14001125000182/نگاهی-به-دوپینگ-اسکی‌باز-ایران-مشکلِ-عمدی-یا-دست‌های-پشت-پرده\n",
            "تکراری و نمایشی مانند همایش معرفی بانوی اخلاق؛ بی توجه به شیوع کرونا و دیگر هیچ\n",
            "https://www.farsnews.ir/news/14001113000230/تکراری-و-نمایشی-مانند-همایش-معرفی-بانوی-اخلاق-بی-توجه-به-شیوع-کرونا-و\n",
            "حادثه‌ در علم کوه/ هلی‌کوپتر امداد به پرواز درآمد+فیلم\n",
            "https://www.farsnews.ir/news/14001023000187/حادثه‌-در-علم-کوه-هلی‌کوپتر-امداد-به-پرواز-درآمد-فیلم\n",
            "تلاش دشمن مخفی‌کردن پیشرفت‌ها و تحقیر قهرمانان کشور است\n",
            "https://www.farsnews.ir/news/14001219000124/تلاش-دشمن-مخفی‌کردن-پیشرفت‌ها-و-تحقیر-قهرمانان-کشور-است\n",
            "سردار جوانی: توطئه‌گران از ماجرای «شکدم» عبرت بگیرند\n",
            "https://www.farsnews.ir/news/14001217000744/سردار-جوانی-توطئه‌گران-از-ماجرای-شکدم-عبرت-بگیرند\n"
          ]
        }
      ]
    },
    {
      "cell_type": "code",
      "source": [
        "simple_query('آلوده شهر', saved_positional_index)"
      ],
      "metadata": {
        "colab": {
          "base_uri": "https://localhost:8080/"
        },
        "id": "LpQXn6fz2G5i",
        "outputId": "7deeb8c3-a1f9-4a06-ad20-83b4c65d9876"
      },
      "execution_count": null,
      "outputs": [
        {
          "output_type": "stream",
          "name": "stdout",
          "text": [
            "استانداران خود را مسئول تولید علم، فناوری و ثروت در کشور بدانند\n",
            "https://www.farsnews.ir/news/14001221001163/استانداران-خود-را-مسئول-تولید-علم-فناوری-و-ثروت-در-کشور-بدانند\n",
            "خطیب جمعه تهران: سازمان‌ همکاری اسلامی در برابر کشتار مردم یمن سکوت کرده است\n",
            "https://www.farsnews.ir/news/14001108000202/خطیب-جمعه-تهران-سازمان‌-همکاری-اسلامی-در-برابر-کشتار-مردم-یمن-سکوت\n",
            "فتنه 88؛ گناه نابخشودنی| خرداد پر از حادثه؛ دعوت به قانون‌گریزی در لفافه بیانیه‌های قانونمدارانه\n",
            "https://www.farsnews.ir/news/14001002000543/فتنه-گناه-نابخشودنی|-خرداد-پر-از-حادثه-دعوت-به-قانون‌گریزی-در-لفافه\n",
            "نباید مسائل روزمره دولت را از اصلاحات ساختاری باز بدارد/ دولت مگاپروژه‌ها را کلید بزند\n",
            "https://www.farsnews.ir/news/14000915000397/نباید-مسائل-روزمره-دولت-را-از-اصلاحات-ساختاری-باز-بدارد-دولت\n",
            "نماینده اتحادیه دانشجویان مستقل: دولت و مجلس فعلی میراث‌دار 8 سال جریان پرمدعا و بی‌عمل هستند\n",
            "https://www.farsnews.ir/news/14000915000405/نماینده-اتحادیه-دانشجویان-مستقل-دولت-و-مجلس-فعلی-میراث‌دار-سال-جریان\n",
            "آبان 98| شبیخون دولت اعتدال‌گرایان به اعتماد مردم/ مطالبه دانشگاهیان برای محاکمه دولتمردان سابق\n",
            "https://www.farsnews.ir/news/14000824000529/آبان-9|-شبیخون-دولت-اعتدال‌گرایان-به-اعتماد-مردم-مطالبه-دانشگاهیان\n",
            "کنایه رئیسی به روحانی در سالروز حوادث آبان 98 / مردم را در تصمیمات سهیم می‌کنیم، نه غافلگیر\n",
            "https://www.farsnews.ir/news/14000827000708/کنایه-رئیسی-به-روحانی-در-سالروز-حوادث-آبان-9--مردم-را-در-تصمیمات-سهیم\n",
            "نائب رییس کمیسیون اقتصادی مجلس: روحانی یک خزانه خالی تحویل رئیسی داد /بیش از بیست میلیارد دلار ارز صادراتی به کشور باز نگشته است\n",
            "https://www.farsnews.ir/news/14000816000349/نائب-رییس-کمیسیون-اقتصادی-مجلس-روحانی-یک-خزانه-خالی-تحویل-رئیسی-داد-\n",
            "سیاست رهبر انقلاب در دوران کرونا تقویت خودباوری ملی همزمان بهره‌مندی از دانش جهانی بود\n",
            "https://www.farsnews.ir/news/14000815000399/سیاست-رهبر-انقلاب-در-دوران-کرونا-تقویت-خودباوری-ملی-همزمان-بهره‌مندی\n",
            "قرائت گزارش بررسی عملکرد حسن روحانی در ستاد کرونا/ مردم از عملکرد دولت سابق علیه کرونا ناراضی هستند\n",
            "https://www.farsnews.ir/news/14000811000114/قرائت-گزارش-بررسی-عملکرد-حسن-روحانی-در-ستاد-کرونا-مردم-از-عملکرد-دولت\n",
            "نگاهی به دوپینگ اسکی‌باز ایران؛ مشکلِ عمدی یا دست‌های پشت پرده؟\n",
            "https://www.farsnews.ir/news/14001125000182/نگاهی-به-دوپینگ-اسکی‌باز-ایران-مشکلِ-عمدی-یا-دست‌های-پشت-پرده\n",
            "تکراری و نمایشی مانند همایش معرفی بانوی اخلاق؛ بی توجه به شیوع کرونا و دیگر هیچ\n",
            "https://www.farsnews.ir/news/14001113000230/تکراری-و-نمایشی-مانند-همایش-معرفی-بانوی-اخلاق-بی-توجه-به-شیوع-کرونا-و\n",
            "حادثه‌ در علم کوه/ هلی‌کوپتر امداد به پرواز درآمد+فیلم\n",
            "https://www.farsnews.ir/news/14001023000187/حادثه‌-در-علم-کوه-هلی‌کوپتر-امداد-به-پرواز-درآمد-فیلم\n",
            "تلاش دشمن مخفی‌کردن پیشرفت‌ها و تحقیر قهرمانان کشور است\n",
            "https://www.farsnews.ir/news/14001219000124/تلاش-دشمن-مخفی‌کردن-پیشرفت‌ها-و-تحقیر-قهرمانان-کشور-است\n",
            "سردار جوانی: توطئه‌گران از ماجرای «شکدم» عبرت بگیرند\n",
            "https://www.farsnews.ir/news/14001217000744/سردار-جوانی-توطئه‌گران-از-ماجرای-شکدم-عبرت-بگیرند\n"
          ]
        },
        {
          "output_type": "execute_result",
          "data": {
            "text/plain": [
              "[(6960, 2),\n",
              " (8282, 2),\n",
              " (9403, 2),\n",
              " (9687, 2),\n",
              " (10169, 2),\n",
              " (10790, 2),\n",
              " (10852, 2),\n",
              " (10968, 2),\n",
              " (11437, 2),\n",
              " (11649, 2),\n",
              " (2150, 1),\n",
              " (3014, 1),\n",
              " (4788, 1),\n",
              " (7032, 1),\n",
              " (7087, 1)]"
            ]
          },
          "metadata": {},
          "execution_count": 81
        }
      ]
    },
    {
      "cell_type": "code",
      "source": [
        "IR_data_news[10169]['url']"
      ],
      "metadata": {
        "colab": {
          "base_uri": "https://localhost:8080/",
          "height": 35
        },
        "id": "APz76Sw3zpt1",
        "outputId": "6c58d6c0-64eb-4535-a249-0710a01fda42"
      },
      "execution_count": null,
      "outputs": [
        {
          "output_type": "execute_result",
          "data": {
            "text/plain": [
              "'https://www.farsnews.ir/news/14000915000405/نماینده-اتحادیه-دانشجویان-مستقل-دولت-و-مجلس-فعلی-میراث\\u200cدار-سال-جریان'"
            ],
            "application/vnd.google.colaboratory.intrinsic+json": {
              "type": "string"
            }
          },
          "metadata": {},
          "execution_count": 336
        }
      ]
    },
    {
      "cell_type": "code",
      "source": [
        "def check_nearby_positions(postions1, postions2):\n",
        "  postions1_index = 0\n",
        "  postions2_index = 0\n",
        "  while postions1_index < len(postions1) and postions2_index < len(postions2):\n",
        "    pos1 = postions1[postions1_index]\n",
        "    pos2 = postions2[postions2_index]\n",
        "    if pos2 == pos1 + 1:\n",
        "      # print('pos1',pos1)\n",
        "      # print('pos2',pos2)\n",
        "      return True\n",
        "    elif pos2 < pos1:\n",
        "      postions2_index += 1\n",
        "    else:\n",
        "      postions1_index +=1 \n",
        "  return False\n",
        "      "
      ],
      "metadata": {
        "id": "wUChXch-wGU3"
      },
      "execution_count": null,
      "outputs": []
    },
    {
      "cell_type": "code",
      "source": [
        "def phrase_query(phrase, saved_positional_index):\n",
        "  #query_words = phrase.split(\" \")\n",
        "  query_words = preprocess_text(phrase)\n",
        "  retrived_docs = []\n",
        "  print(query_words)\n",
        "  if (len(query_words)!=2):\n",
        "    return[]\n",
        "  if (query_words[0] in saved_positional_index.keys() and \n",
        "      query_words[1] in saved_positional_index.keys()):\n",
        "    postings_lists1 = saved_positional_index[query_words[0]][1] # list of doc_id , posotiosn for term1\n",
        "    postings_lists2 = saved_positional_index[query_words[1]][1] # list of doc_id , posotiosn for term2\n",
        "    doc_index1 = 0 # iterates on postings_lists1\n",
        "    doc_index2 = 0 # iterates on postings_lists2\n",
        "    if postings_lists1 is not None and postings_lists1 is not None:\n",
        "      # print(postings_lists1)\n",
        "      # print(postings_lists2)\n",
        "      while doc_index1 < len(postings_lists1) and doc_index2 < len(postings_lists2):\n",
        "        doc_id1 = list(postings_lists1.items())[doc_index1][0]\n",
        "        doc_id2 = list(postings_lists2.items())[doc_index2][0]\n",
        "        if doc_id1 == doc_id2:\n",
        "          # print(doc_id1)\n",
        "          postions1 = postings_lists1[doc_id1][1]\n",
        "          postions2 = postings_lists2[doc_id2][1]\n",
        "          # print('positions1',postions1)\n",
        "          # print('positions2',postions2)\n",
        "          if check_nearby_positions(postions1,postions2):\n",
        "            retrived_docs.append(doc_id1)\n",
        "            #print('added')\n",
        "          doc_index1 += 1\n",
        "          doc_index2 += 1\n",
        "        elif doc_id1 > doc_id2:\n",
        "          doc_index2 += 1\n",
        "        else:\n",
        "          doc_index1 += 1\n",
        "  else:\n",
        "    print('hi')\n",
        "  # for i in retrived_docs[:15]:\n",
        "  #   print(IR_data_news[i]['title'])\n",
        "  #   print(IR_data_news[i]['url'])\n",
        "  return retrived_docs[:15]\n"
      ],
      "metadata": {
        "id": "gUeO53i_7tLL"
      },
      "execution_count": null,
      "outputs": []
    },
    {
      "cell_type": "code",
      "source": [
        "res = phrase_query(' کارگران', saved_positional_index)\n",
        "print(res)"
      ],
      "metadata": {
        "colab": {
          "base_uri": "https://localhost:8080/"
        },
        "id": "EdvYc6wrhFlx",
        "outputId": "bca26c9d-5a6c-4bce-ca2c-f4d5a0b6058e"
      },
      "execution_count": null,
      "outputs": [
        {
          "output_type": "stream",
          "name": "stdout",
          "text": [
            "['حقوق', 'کارگر']\n",
            "گزارش سفر رئیس‌جمهور به مازندران| رئیسی: برای حمایت از دهک‌های پایین برنامه‌ ویژه‌ای داریم\n",
            "https://www.farsnews.ir/news/14001220000749/گزارش-سفر-رئیس‌جمهور-به-مازندران|-رئیسی-برای-حمایت-از-دهک‌های-پایین\n",
            "رئیسی: دولت در مذاکرات از خطوط قرمز عقب‌نشینی نخواهد کرد\n",
            "https://www.farsnews.ir/news/14001217000668/رئیسی-دولت-در-مذاکرات-از-خطوط-قرمز-عقب‌نشینی-نخواهد-کرد\n",
            "رئیس‌جمهور: مردم اوکراین قربانی سیاست‌های شیطانی آمریکا شده‌اند\n",
            "https://www.farsnews.ir/news/14001215001144/رئیس‌جمهور-مردم-اوکراین-قربانی-سیاست‌های-شیطانی-آمریکا-شده‌اند\n",
            "رئیس‌جمهور: کسی که به کارگر ظلم می‌کند، صلاحیت ندارد پیمانکار دولت باشد\n",
            "https://www.farsnews.ir/news/14001215000943/رئیس‌جمهور-کسی-که-به-کارگر-ظلم-می‌کند-صلاحیت-ندارد-پیمانکار-دولت-باشد\n",
            "مهم‌ترین گام اصلاح نظام بودجه‌ریزی کنترل هزینه‌ها و ایجاد ردیف‌های پایدار درآمدی است\n",
            "https://www.farsnews.ir/news/14001118000421/مهم‌ترین-گام-اصلاح-نظام-بودجه‌ریزی-کنترل-هزینه‌ها-و-ایجاد-ردیف‌های\n",
            "گزارش سفر رئیس‌جمهور به گیلان/ پاسخ رئیسی به تماس تلفنی یکی از شهروندان\n",
            "https://www.farsnews.ir/news/14001108000608/گزارش-سفر-رئیس‌جمهور-به-گیلان-پاسخ-رئیسی-به-تماس-تلفنی-یکی-از\n",
            "حقوق مشروع کارگران زن براساس قانون کار رعایت شود\n",
            "https://www.farsnews.ir/news/14001105000247/حقوق-مشروع-کارگران-زن-براساس-قانون-کار-رعایت-شود\n",
            "عده‌ای در مسیر اجرای مصوبه سامان‌دهی کارکنان دولت شیطنت می‌کنند\n",
            "https://www.farsnews.ir/news/14001019000946/عده‌ای-در-مسیر-اجرای-مصوبه-سامان‌دهی-کارکنان-دولت-شیطنت-می‌کنند\n",
            "تعارض منافع باعث کندی در روند تفحص از حقوق‌های نجومی بود\n",
            "https://www.farsnews.ir/news/14000923000271/تعارض-منافع-باعث-کندی-در-روند-تفحص-از-حقوق‌های-نجومی-بود\n",
            "نشست هم‌اندیشی نقش کمیسیون اصل نود مجلس در مسائل بنیادین کشور\n",
            "https://www.farsnews.ir/news/14000914000413/نشست-هم‌اندیشی-نقش-کمیسیون-اصل-نود-مجلس-در-مسائل-بنیادین-کشور\n",
            "توضیحات شرکت ملی مس ایران درباره اظهارات عضو هیأت رئیسه مجلس\n",
            "https://www.farsnews.ir/news/14000913000680/توضیحات-شرکت-ملی-مس-ایران-درباره-اظهارات-عضو-هیأت-رئیسه-مجلس\n",
            "عضو هیات رئیسه مجلس: مدیران دوتابعیتی باقیمانده از دولت قبل را برکنار کنید\n",
            "https://www.farsnews.ir/news/14000912000182/عضو-هیات-رئیسه-مجلس-مدیران-دوتابعیتی-باقیمانده-از-دولت-قبل-را-برکنار\n",
            "دولت خاتمی ۶ میلیارد دلار پول نفت را به خزانه واریز نکرد/ رئیسی ۱۰۰ روز اول، برادری‌اش را به مردم ثابت کرد\n",
            "https://www.farsnews.ir/news/14000808000646/دولت-خاتمی-۶-میلیارد-دلار-پول-نفت-را-به-خزانه-واریز-نکرد-رئیسی-۱۰۰\n",
            "امکان تولید قطعات باکیفیت خودرو در داخل وجود دارد\n",
            "https://www.farsnews.ir/news/14000825000428/امکان-تولید-قطعات-باکیفیت-خودرو-در-داخل-وجود-دارد\n",
            "رئیس‌جمهور در دفاع از وزیر پیشنهادی آموزش و پرورش: نه رفاقت، نه قرابت، نه فشار رسانه‌ای؛ معیار انتخاب افراد فقط شایستگی است\n",
            "https://www.farsnews.ir/news/14000825000064/رئیس‌جمهور-در-دفاع-از-وزیر-پیشنهادی-آموزش-و-پرورش-نه-رفاقت-نه-قرابت\n",
            "[6994, 7091, 7167, 7177, 7904, 8275, 8412, 8822, 9837, 10212, 10255, 10284, 10806, 10972, 11000, 11359, 11549, 11613, 11721, 11731]\n"
          ]
        }
      ]
    },
    {
      "cell_type": "code",
      "source": [
        "res = phrase_query('جزای نقدی ', saved_positional_index)\n"
      ],
      "metadata": {
        "colab": {
          "base_uri": "https://localhost:8080/"
        },
        "id": "XiEqJx18Vgjp",
        "outputId": "d1683f5a-cc2b-480e-cefb-717d52891046"
      },
      "execution_count": null,
      "outputs": [
        {
          "output_type": "stream",
          "name": "stdout",
          "text": [
            "['جزا', 'نقدی']\n",
            "محرومیت 2 عضو فوتبال و فوتسال بانوان توسط کمیته اخلاق\n",
            "https://www.farsnews.ir/news/14001222000459/محرومیت-2-عضو-فوتبال-و-فوتسال-بانوان-توسط-کمیته-اخلاق\n",
            "محرومیت دو مدیر فوتبالی از سوی کمیته اخلاق\n",
            "https://www.farsnews.ir/news/14001212000304/محرومیت-دو-مدیر-فوتبالی-از-سوی-کمیته-اخلاق\n",
            "یک مدیر فوتبالی 10 سال محروم شد\n",
            "https://www.farsnews.ir/news/14001203000340/یک-مدیر-فوتبالی-0-سال-محروم-شد\n",
            "منع کلیه فعالیت‌های دو بازیکن در فوتبال بانوان و مردان توسط کمیته اخلاق\n",
            "https://www.farsnews.ir/news/14001120000710/منع-کلیه-فعالیت‌های-دو-بازیکن-در-فوتبال-بانوان-و-مردان-توسط-کمیته\n",
            "واگذاری تمامی مراحل نقل و انتقال مالکیت خودرو به نیروی انتظامی\n",
            "https://www.farsnews.ir/news/14001216000334/واگذاری-تمامی-مراحل-نقل-و-انتقال-مالکیت-خودرو-به-نیروی-انتظامی\n",
            "مجازات اخلالگران نظام اقتصادی با مصوبه مجلس شدیدتر می‌شود\n",
            "https://www.farsnews.ir/news/14001209000252/مجازات-اخلالگران-نظام-اقتصادی-با-مصوبه-مجلس-شدیدتر-می‌شود\n",
            "کلیات طرح حمایت از کاربران فضای مجازی در کمیسیون ویژه تصویب شد\n",
            "https://www.farsnews.ir/news/14001203000680/کلیات-طرح-حمایت-از-کاربران-فضای-مجازی-در-کمیسیون-ویژه-تصویب-شد\n",
            "رای اعتماد هیات وزیران به استاندار منتخب کرمانشاه / موافقت با صدور مجوز برای تکمیل کمربندی ماهشهر\n",
            "https://www.farsnews.ir/news/14001015000434/رای-اعتماد-هیات-وزیران-به-استاندار-منتخب-کرمانشاه--موافقت-با-صدور\n",
            "جزئیات طرح جدید مجلس برای سامان‌بخشی به بورس+ متن طرح\n",
            "https://www.farsnews.ir/news/14001011000203/جزئیات-طرح-جدید-مجلس-برای-سامان‌بخشی-به-بورس-متن-طرح\n",
            "مصوبه کمیسیون قضایی برای مجازات واردکنندگان اتباع غیرمجاز بیگانه به کشور\n",
            "https://www.farsnews.ir/news/14000921000745/مصوبه-کمیسیون-قضایی-برای-مجازات-واردکنندگان-اتباع-غیرمجاز-بیگانه-به\n",
            "تعیین مقررات کیفری و مصادیق جرائم مرتبط با اختراعات\n",
            "https://www.farsnews.ir/news/14000921000202/تعیین-مقررات-کیفری-و-مصادیق-جرائم-مرتبط-با-اختراعات\n",
            "مصوبه کمیسیون قضایی برای مجازات پناه‌دهندگان به اتباع بیگانه غیرمجاز\n",
            "https://www.farsnews.ir/news/14000916000738/مصوبه-کمیسیون-قضایی-برای-مجازات-پناه‌دهندگان-به-اتباع-بیگانه-غیرمجاز\n",
            "رکورددار سقوط نرخ رشد جمعیت هستیم/ دسترسی در کشور به داروی سقط فاجعه است\n",
            "https://www.farsnews.ir/news/14000910000475/رکورددار-سقوط-نرخ-رشد-جمعیت-هستیم-دسترسی-در-کشور-به-داروی-سقط-فاجعه\n",
            "مجلس طرح «ثبت رسمی معاملات اموال غیرمنقول» را اصلاح کرد/ تعیین مجازات برای قضات و ماموران متخلف\n",
            "https://www.farsnews.ir/news/14000826000226/مجلس-طرح-ثبت-رسمی-معاملات-اموال-غیرمنقول-را-اصلاح-کرد-تعیین-مجازات\n",
            "متن نهایی طرح مجازات پایمال‌کنندگان منافع عمومی\n",
            "https://www.farsnews.ir/news/14000823000679/متن-نهایی-طرح-مجازات-پایمال‌کنندگان-منافع-عمومی\n"
          ]
        }
      ]
    },
    {
      "cell_type": "code",
      "source": [
        "# simple + phrase + not\n",
        "def query_analizer(query):\n",
        "  simple_query = \"\"\n",
        "  phrase_query= \"\"\n",
        "  not_word = \"\"\n",
        "  split1= query.split(\"!\")\n",
        "  not_word = split1[1].split(\" \")[0]\n",
        "  split2 = split1[0].split(\"'\", 2)\n",
        "  phrase_query = split2[1]\n",
        "  simple_query = split2[0]+\" \"+split2[2]\n",
        "  print(simple_query)\n",
        "  return simple_query, phrase_query, not_word\n"
      ],
      "metadata": {
        "id": "Rx0_wfvXec16"
      },
      "execution_count": null,
      "outputs": []
    },
    {
      "cell_type": "code",
      "source": [
        "a,b,c = query_analizer(\"سلام مردم 'هوا' سلامتر!ایرانم\")\n",
        "print(c)"
      ],
      "metadata": {
        "colab": {
          "base_uri": "https://localhost:8080/"
        },
        "id": "azonfOy5ZOwZ",
        "outputId": "10b0afc1-e9a3-4068-9421-5058e2e93f5c"
      },
      "execution_count": null,
      "outputs": [
        {
          "output_type": "stream",
          "name": "stdout",
          "text": [
            "سلام مردم   سلامتر\n",
            "ایرانم\n"
          ]
        }
      ]
    },
    {
      "cell_type": "code",
      "source": [
        "def complex_query(query):\n",
        "  retrived_docs = []\n",
        "  simpleQuery, phraseQuery, not_word = query_analizer(query)\n",
        "  simple_docs = simple_query(simpleQuery, saved_positional_index)\n",
        "  phrase_docs =  phrase_query(phraseQuery, saved_positional_index)\n",
        "  not_docs = simple_query(not_word, saved_positional_index)\n",
        "  simple_list = []\n",
        "  not_list = []\n",
        "  for i in simple_docs:\n",
        "    simple_list.append(i[0])\n",
        "\n",
        "  for i in not_docs:\n",
        "    not_list.append(i[0])\n",
        "\n",
        "  # print(simple_list)\n",
        "  # print(\"******\")\n",
        "  # print(phrase_docs)\n",
        "  # print(\"******\")\n",
        "  # print(not_docs)\n",
        "  for i in simple_list:\n",
        "    if i not in not_list:\n",
        "      if i in phrase_docs:\n",
        "        retrived_docs.append(i)\n",
        "  return retrived_docs"
      ],
      "metadata": {
        "id": "D7d6dNMTbjFL"
      },
      "execution_count": null,
      "outputs": []
    },
    {
      "cell_type": "code",
      "source": [
        "phrase_query(\"نگون بخت\", saved_positional_index)"
      ],
      "metadata": {
        "colab": {
          "base_uri": "https://localhost:8080/"
        },
        "id": "kbZbWwipe90S",
        "outputId": "78846d15-9334-451e-8ad0-6ef57171883f"
      },
      "execution_count": null,
      "outputs": [
        {
          "output_type": "stream",
          "name": "stdout",
          "text": [
            "['نگون', 'بخت']\n"
          ]
        },
        {
          "output_type": "execute_result",
          "data": {
            "text/plain": [
              "[10278]"
            ]
          },
          "metadata": {},
          "execution_count": 16
        }
      ]
    },
    {
      "cell_type": "code",
      "source": [
        "IR_data_news[10278]['url']"
      ],
      "metadata": {
        "colab": {
          "base_uri": "https://localhost:8080/",
          "height": 35
        },
        "id": "_3kgLrx2iscS",
        "outputId": "343a802b-8403-427c-a127-24b3f07449eb"
      },
      "execution_count": null,
      "outputs": [
        {
          "output_type": "execute_result",
          "data": {
            "text/plain": [
              "'https://www.farsnews.ir/news/14000912000414/ماجرای-هماهنگی-با-حاکم-بلوچستان-پاکستان-برای-آزادی-گروگان\\u200c\\u200cهای-گروهک'"
            ],
            "application/vnd.google.colaboratory.intrinsic+json": {
              "type": "string"
            }
          },
          "metadata": {},
          "execution_count": 17
        }
      ]
    },
    {
      "cell_type": "code",
      "source": [
        "complex_query(\"تردستی 'حساب کتاب' !کرونا \")"
      ],
      "metadata": {
        "colab": {
          "base_uri": "https://localhost:8080/"
        },
        "id": "FN6OYTY_3qwH",
        "outputId": "ec7a8b9f-d567-4c80-cc50-f1dc7fdad347"
      },
      "execution_count": null,
      "outputs": [
        {
          "output_type": "stream",
          "name": "stdout",
          "text": [
            "تردستی   \n",
            "['حساب', 'کتاب']\n",
            "دبیر: وزیر مرا برکنار کند دستش را هم می‌بوسم/برای حال‌گیری بودجه خادم را کم کردند\n",
            "https://www.farsnews.ir/news/14001222000392/دبیر-وزیر-مرا-برکنار-کند-دستش-را-هم-می‌بوسم-برای-حال‌گیری-بودجه-خادم\n",
            "اسکوچیچ: مردم متوجه شده‌اند که می‌توانند هدایت تیم ملی را به من واگذار کنند/هاشمیان سواد اروپایی از فوتبال دارد\n",
            "https://www.farsnews.ir/news/14001222000329/اسکوچیچ-مردم-متوجه-شده‌اند-که-می‌توانند-هدایت-تیم-ملی-را-به-من-واگذار\n",
            "آجورلو: برای گرفتن حق و حقوقمان یقه پاره می کنیم/ فردا پایان خط فقر فوتبال ماست\n",
            "https://www.farsnews.ir/news/14001214000404/آجورلو-برای-گرفتن-حق-و-حقوقمان-یقه-پاره-می-کنیم-فردا-پایان-خط-فقر\n",
            "رئیس سازمان خصوصی سازی: استقلال و پرسپولیس تاریکخانه دارند/اعلام بدهی فوق سنگین مالیاتی سرخابی‌ها\n",
            "https://www.farsnews.ir/news/14001207000228/رئیس-سازمان-خصوصی-سازی-استقلال-و-پرسپولیس-تاریکخانه-دارند-اعلام-بدهی\n",
            "انتقال مالکیت تراکتور و ماشین سازی محلی برای مجادله نمایندگان تبریز و کرمان/ رویای پرشورها عملی می شود؟\n",
            "https://www.farsnews.ir/news/14001029000369/انتقال-مالکیت-تراکتور-و-ماشین-سازی-محلی-برای-مجادله-نمایندگان-تبریز-و\n",
            "نماینده تبریز در مجلس: تعلل در روند واگذاری تراکتور را پیگیری می‌کنیم/ زمانبندی انتقال تمام شده است\n",
            "https://www.farsnews.ir/news/14001027000545/نماینده-تبریز-در-مجلس-تعلل-در-روند-واگذاری-تراکتور-را-پیگیری-می‌کنیم-\n",
            "گفت‌وگوی ویژه فارس با مردی که با جادوگر فوتبال جنگید/ داستان حیرت‌انگیز از اعمال نفوذ در مستطیل سبز\n",
            "https://www.farsnews.ir/news/14000917000716/گفت‌وگوی-ویژه-فارس-با-مردی-که-با-جادوگر-فوتبال-جنگید-داستان\n",
            "انتقاد شدید شیمیدر از فدراسیون بسکتبال: تاکنون چنین بی سر سامانی را ندیده بودیم\n",
            "https://www.farsnews.ir/news/14000925000449/انتقاد-شدید-شیمیدر-از-فدراسیون-بسکتبال-تاکنون-چنین-بی-سر-سامانی-را\n",
            "دولت پیگیر تصویب شفافیت آرای نمایندگان است اما عده‌ای با آن مخالفت می‌کنند\n",
            "https://www.farsnews.ir/news/14001219000173/دولت-پیگیر-تصویب-شفافیت-آرای-نمایندگان-است-اما-عده‌ای-با-آن-مخالفت\n",
            "محصولیِ ۱۲ میلیاردی را محکوم می‌کردند اما با وزرای ۱۰۰۰ میلیاردی روحانی مشکل نداشتند\n",
            "https://www.farsnews.ir/news/14001206000606/محصولیِ-۱۲-میلیاردی-را-محکوم-می‌کردند-اما-با-وزرای-۱۰۰۰-میلیاردی\n",
            "فرمانده نیروی هوایی ارتش: ایران قطب ساخت شبیه‌ساز هواپیما در منطقه است\n",
            "https://www.farsnews.ir/news/14001115000501/فرمانده-نیروی-هوایی-ارتش-ایران-قطب-ساخت-شبیه‌ساز-هواپیما-در-منطقه-است\n",
            "سبک زندگی اجتماعی، سیاسی و مبارزاتی زهرای اطهر در بیان رهبر انقلاب\n",
            "https://www.farsnews.ir/news/14001014001047/سبک-زندگی-اجتماعی-سیاسی-و-مبارزاتی-زهرای-اطهر-در-بیان-رهبر-انقلاب\n",
            "افزایش حقوق کارمندان در سال 1401 به بودجه رتبه‌بندی معلمان اضافه می‌شود\n",
            "https://www.farsnews.ir/news/14000924000101/افزایش-حقوق-کارمندان-در-سال-40-به-بودجه-رتبه‌بندی-معلمان-اضافه-می‌شود\n",
            "انتشار کتاب «روشن‌بینی امام در نامه ۱۳۶۸/۱/۶»/ گمانه منتظری برای نخست وزیری مهدی هاشمی معدوم\n",
            "https://www.farsnews.ir/news/14000811000296/انتشار-کتاب-روشن‌بینی-امام-در-نامه-۱۳۶۸-۱-۶-گمانه-منتظری-برای-نخست\n"
          ]
        },
        {
          "output_type": "execute_result",
          "data": {
            "text/plain": [
              "[]"
            ]
          },
          "metadata": {},
          "execution_count": 368
        }
      ]
    }
  ],
  "metadata": {
    "colab": {
      "provenance": []
    },
    "kernelspec": {
      "display_name": "Python 3",
      "name": "python3"
    },
    "language_info": {
      "name": "python"
    },
    "accelerator": "GPU",
    "gpuClass": "standard"
  },
  "nbformat": 4,
  "nbformat_minor": 0
}