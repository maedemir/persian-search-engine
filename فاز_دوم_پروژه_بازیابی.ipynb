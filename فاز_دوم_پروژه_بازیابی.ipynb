{
  "cells": [
    {
      "cell_type": "code",
      "execution_count": null,
      "metadata": {
        "colab": {
          "base_uri": "https://localhost:8080/"
        },
        "id": "4n7BCPrhj9LR",
        "outputId": "8c6c5d7c-fb5f-49c5-fbd4-979ec9132d52"
      },
      "outputs": [
        {
          "output_type": "stream",
          "name": "stdout",
          "text": [
            "Looking in indexes: https://pypi.org/simple, https://us-python.pkg.dev/colab-wheels/public/simple/\n",
            "Collecting parsivar\n",
            "  Downloading parsivar-0.2.3.tar.gz (36.2 MB)\n",
            "\u001b[2K     \u001b[90m━━━━━━━━━━━━━━━━━━━━━━━━━━━━━━━━━━━━━━━━\u001b[0m \u001b[32m36.2/36.2 MB\u001b[0m \u001b[31m39.6 MB/s\u001b[0m eta \u001b[36m0:00:00\u001b[0m\n",
            "\u001b[?25h  Preparing metadata (setup.py) ... \u001b[?25l\u001b[?25hdone\n",
            "Collecting nltk==3.4.5\n",
            "  Downloading nltk-3.4.5.zip (1.5 MB)\n",
            "\u001b[2K     \u001b[90m━━━━━━━━━━━━━━━━━━━━━━━━━━━━━━━━━━━━━━━━\u001b[0m \u001b[32m1.5/1.5 MB\u001b[0m \u001b[31m67.6 MB/s\u001b[0m eta \u001b[36m0:00:00\u001b[0m\n",
            "\u001b[?25h  Preparing metadata (setup.py) ... \u001b[?25l\u001b[?25hdone\n",
            "Requirement already satisfied: six in /usr/local/lib/python3.8/dist-packages (from nltk==3.4.5->parsivar) (1.15.0)\n",
            "Building wheels for collected packages: parsivar, nltk\n",
            "  Building wheel for parsivar (setup.py) ... \u001b[?25l\u001b[?25hdone\n",
            "  Created wheel for parsivar: filename=parsivar-0.2.3-py3-none-any.whl size=36492971 sha256=25743f48b4f6250843f46fb922df9e84aba41a4041eddc71a43403509b9fa052\n",
            "  Stored in directory: /root/.cache/pip/wheels/54/0a/38/7d0b1aabbd644340a94fb8685fd20d9f35814d735973d07f40\n",
            "  Building wheel for nltk (setup.py) ... \u001b[?25l\u001b[?25hdone\n",
            "  Created wheel for nltk: filename=nltk-3.4.5-py3-none-any.whl size=1449921 sha256=2c8ea937fe280877553c28415ee1e4e9128821499968c983a41dfe03dcc7bd57\n",
            "  Stored in directory: /root/.cache/pip/wheels/23/18/48/8fd6ec11da38406b309470566d6f099c04805d2ec61d7829e7\n",
            "Successfully built parsivar nltk\n",
            "Installing collected packages: nltk, parsivar\n",
            "  Attempting uninstall: nltk\n",
            "    Found existing installation: nltk 3.7\n",
            "    Uninstalling nltk-3.7:\n",
            "      Successfully uninstalled nltk-3.7\n",
            "Successfully installed nltk-3.4.5 parsivar-0.2.3\n",
            "Looking in indexes: https://pypi.org/simple, https://us-python.pkg.dev/colab-wheels/public/simple/\n",
            "Collecting stopwordsiso\n",
            "  Downloading stopwordsiso-0.6.1-py3-none-any.whl (73 kB)\n",
            "\u001b[2K     \u001b[90m━━━━━━━━━━━━━━━━━━━━━━━━━━━━━━━━━━━━━━━━\u001b[0m \u001b[32m73.5/73.5 KB\u001b[0m \u001b[31m3.7 MB/s\u001b[0m eta \u001b[36m0:00:00\u001b[0m\n",
            "\u001b[?25hInstalling collected packages: stopwordsiso\n",
            "Successfully installed stopwordsiso-0.6.1\n"
          ]
        }
      ],
      "source": [
        "!pip install parsivar\n",
        "!pip install stopwordsiso"
      ]
    },
    {
      "cell_type": "code",
      "execution_count": null,
      "metadata": {
        "id": "W4AMXD52j5Qh"
      },
      "outputs": [],
      "source": [
        "import json\n",
        "import parsivar\n",
        "from parsivar import Normalizer\n",
        "from parsivar import Tokenizer\n",
        "from parsivar import FindStems\n",
        "from stopwordsiso import stopwords\n",
        "import re\n",
        "from string import punctuation\n",
        "import pandas as pd\n",
        "import pickle\n",
        "import numpy as np\n",
        "from numpy.linalg import norm\n",
        "from numpy import array"
      ]
    },
    {
      "cell_type": "code",
      "execution_count": null,
      "metadata": {
        "colab": {
          "base_uri": "https://localhost:8080/"
        },
        "id": "9C9pixFwj1Wy",
        "outputId": "166d2929-f0ce-403d-b862-c0918eed251b"
      },
      "outputs": [
        {
          "output_type": "stream",
          "name": "stdout",
          "text": [
            "Mounted at /content/drive\n"
          ]
        }
      ],
      "source": [
        "# loading the \n",
        "from google.colab import drive\n",
        "drive.mount('/content/drive')"
      ]
    },
    {
      "cell_type": "code",
      "execution_count": null,
      "metadata": {
        "colab": {
          "base_uri": "https://localhost:8080/"
        },
        "id": "6a9gS-s-js5G",
        "outputId": "616474ce-a2c5-4864-b2b7-e248bba708f9"
      },
      "outputs": [
        {
          "output_type": "execute_result",
          "data": {
            "text/plain": [
              "(6, 12202)"
            ]
          },
          "metadata": {},
          "execution_count": 5
        }
      ],
      "source": [
        "# vars\n",
        "IR_data_news = pd.read_json('/content/drive/MyDrive/IR_data_news_12k.json')\n",
        "positional_index_path = ('/content/drive/MyDrive/positional_index.txt')\n",
        "preprocessed_news_path = ('/content/drive/MyDrive/preprocessed_news.txt')\n",
        "IR_data_news.shape"
      ]
    },
    {
      "cell_type": "code",
      "execution_count": null,
      "metadata": {
        "id": "LUKPBhmNkVRc"
      },
      "outputs": [],
      "source": [
        "# loading positional index from google drive\n",
        "with open(positional_index_path, \"rb\") as myFile:\n",
        "    saved_positional_index = pickle.load(myFile)\n",
        "with open(preprocessed_news_path, \"rb\") as myFile:\n",
        "    saved_preprocessed_news = pickle.load(myFile)"
      ]
    },
    {
      "cell_type": "code",
      "execution_count": null,
      "metadata": {
        "id": "1Zs0q-EoEc5V"
      },
      "outputs": [],
      "source": [
        "def remove_punctuation(text):\n",
        "    new_text = re.sub(f'[{punctuation}؟،٪×÷.»«()+:إ؛]', '', text)\n",
        "    return new_text\n",
        " \n",
        "def normalization(text):\n",
        "    normalizer = Normalizer()\n",
        "    normalized_text = normalizer.normalize(text)\n",
        "    return normalized_text\n",
        "    \n",
        "def tokenizer(text):\n",
        "    tokenizer = Tokenizer()\n",
        "    tokens = tokenizer.tokenize_words(text)\n",
        "    return tokens\n",
        "\n",
        "def delete_stopWords(tokens):\n",
        "    stop_words = stopwords('fa')\n",
        "    for i in tokens:\n",
        "        if i in stop_words:\n",
        "            tokens.remove(i)\n",
        "    return tokens\n",
        "    \n",
        "def stemming(tokens):\n",
        "    new_tokens = []\n",
        "    my_stemmer = FindStems()\n",
        "    for t in tokens:\n",
        "        stems = my_stemmer.convert_to_stem(t)\n",
        "        stems = stems.split(\"&\")\n",
        "        if len(stems) == 2:\n",
        "          new_tokens.append(stems[1])\n",
        "        else:\n",
        "          new_tokens.append(stems[0])\n",
        "    return new_tokens\n",
        "\n",
        "def preprocess_text(text):\n",
        "   text = remove_punctuation(text)\n",
        "   normalized_text = normalization(text)\n",
        "   tokens = tokenizer(normalized_text)\n",
        "   tokens = delete_stopWords(tokens)\n",
        "   stems = stemming(tokens)\n",
        "   return stems"
      ]
    },
    {
      "cell_type": "code",
      "execution_count": null,
      "metadata": {
        "id": "kgRqYCGxKcZq"
      },
      "outputs": [],
      "source": [
        " # calculating tf-idfs\n",
        "documents_weights = {}\n",
        "N = len(saved_preprocessed_news)\n",
        "for doc_id, doc_content in enumerate(saved_preprocessed_news):\n",
        "  documents_weights[doc_id] = {}\n",
        "  for token in doc_content:\n",
        "    f_td = saved_positional_index[token][1][doc_id][0] # number of occurences of term t in doc d\n",
        "    tf = 1 + np.log10(f_td) \n",
        "    n_t = len(saved_positional_index[token][1]) # number of docs that have term t\n",
        "    idf = np.log10(N/n_t)\n",
        "    token_weight = tf*idf\n",
        "    documents_weights[doc_id][token] = token_weight"
      ]
    },
    {
      "cell_type": "code",
      "execution_count": null,
      "metadata": {
        "colab": {
          "base_uri": "https://localhost:8080/"
        },
        "id": "VWizYnWp8vjy",
        "outputId": "5fc84c33-0668-4b2b-ae84-6fd2f5b62e21"
      },
      "outputs": [
        {
          "output_type": "execute_result",
          "data": {
            "text/plain": [
              "{'گزارش': 0.06598686528979414,\n",
              " 'خبرگزاری': 0.007249774608743844,\n",
              " 'فارس': 0.004795719153417859,\n",
              " 'چهارشنبه': 1.3222548882660379,\n",
              " 'شب': 1.0765553869442086,\n",
              " 'چارچوب': 1.3025274413836339,\n",
              " 'دیدار': 0.6696241488334242,\n",
              " 'نیمه': 1.1278671374344014,\n",
              " 'نهایی': 1.0280049961993634,\n",
              " 'سوپرکاپ': 2.5301285198890815,\n",
              " 'اسپانیا': 1.8008737116485949,\n",
              " 'بارسلونا': 2.486453717075493,\n",
              " 'رئال': 2.4591514856652594,\n",
              " 'مادرید': 2.201315873162769,\n",
              " 'ریاض': 2.5549521036141134,\n",
              " 'مصاف': 1.1014538942408754,\n",
              " 'خواه': 0.6763289440135081,\n",
              " 'ژاوی': 2.686941428080667,\n",
              " 'لیست': 1.890347879741773,\n",
              " 'بازیکن': 0.713760571162582,\n",
              " 'آماده': 1.5828497624019542,\n",
              " 'بازی': 0.6918807928179967,\n",
              " 'حساس': 1.4015856590119562,\n",
              " 'اعلام': 1.3784274799870533,\n",
              " 'که': 0.30875894820441563,\n",
              " 'آنسو': 4.015539337421733,\n",
              " 'فاتی': 4.218631861942555,\n",
              " 'چشم': 1.4975992950621615,\n",
              " 'خور': 1.3018137280234934,\n",
              " 'باشگاه': 0.6976196071828451,\n",
              " 'فرنکی': 4.141622171225401,\n",
              " 'دی': 1.8626571443623743,\n",
              " 'یونگ': 3.876014951001258,\n",
              " 'آرائخو': 3.7157183782401875,\n",
              " 'مجوز': 1.3613364995748998,\n",
              " 'پزشکی': 1.3444919429271698,\n",
              " 'گیر': 0.6087310923242379,\n",
              " 'ممکن': 1.5588011197850302,\n",
              " 'توان': 0.4537713073624552,\n",
              " 'برای': 0.4467453594136872,\n",
              " 'ال': 2.5679170807784812,\n",
              " 'کلاسیکو': 2.8559820992780947,\n",
              " 'دسترس': 1.962579379689283,\n",
              " 'ابتدا': 0.974161252239098,\n",
              " 'هفته': 0.6270385328971378,\n",
              " 'گرانادا': 2.9103397616006874,\n",
              " 'با': 0.3106816387807492,\n",
              " 'تساوی': 1.3090041982670573,\n",
              " 'پایان': 0.6785304805137335,\n",
              " 'رسان': 1.00761183755752,\n",
              " 'ناکامی': 2.007249774608744,\n",
              " 'مقابل': 1.355531781823557,\n",
              " 'صف': 2.1179480721024335,\n",
              " 'آرا': 2.4332185068810253,\n",
              " 'از': 0.14601415597470352,\n",
              " 'آن': 0.6088756884573876,\n",
              " 'طرف': 1.2067618150243151,\n",
              " 'یک': 0.5397649955861845,\n",
              " 'تماشایی': 2.5301285198890815,\n",
              " 'والنسیا': 2.6392729893141493,\n",
              " 'برتری': 1.261654558180823,\n",
              " 'دست': 0.8126655707992444,\n",
              " 'بالاتر': 1.5112431757287077,\n",
              " 'در': 0.08878256576016258,\n",
              " 'مسابقه': 0.9724876683495319,\n",
              " 'دار': 0.5964725412315341,\n",
              " 'شرح': 1.0105192591735912,\n",
              " 'اس': 0.35532596944044825,\n",
              " 'دروازه\\u200cبان': 1.468382923944276,\n",
              " 'تراشتگن': 3.0864310206563688,\n",
              " 'نتو': 3.308279770272725,\n",
              " 'ایناکی': 3.308279770272725,\n",
              " 'پنا': 3.4843710293284063,\n",
              " 'مدافع': 1.2610049028885455,\n",
              " 'پیکه': 2.8311585155530627,\n",
              " 'آلوز': 2.6392729893141493,\n",
              " 'لنگله': 3.132188511217044,\n",
              " 'آلبا': 2.8823110380004437,\n",
              " 'مینگوئزا': 3.241332980642112,\n",
              " 'اومتیتی': 2.9103397616006874,\n",
              " 'بالده': 3.241332980642112,\n",
              " 'هافبک': 1.4987200556374574,\n",
              " 'بوسکتس': 3.045038335498144,\n",
              " 'ریک': 3.241332980642112,\n",
              " 'پویچ': 3.4843710293284063,\n",
              " 'نیکو': 2.972487668349532,\n",
              " 'گابی': 2.9103397616006874,\n",
              " 'آلوارو': 3.045038335498144,\n",
              " 'سانز': 2.8559820992780947,\n",
              " 'مهاجم': 1.2067618150243151,\n",
              " 'دمبله': 2.4953664136298697,\n",
              " 'ممفیس': 2.8559820992780947,\n",
              " 'دپ': 3.045038335498144,\n",
              " 'لوک': 2.7642117259224492,\n",
              " 'خوتلا': 3.7854010249923875,\n",
              " 'عبدالصمد': 2.9403029849781306,\n",
              " 'و': 0.10907329111106735,\n",
              " 'انتهای': 0.004615820024088806,\n",
              " 'پیام': 0.006418173548440911}"
            ]
          },
          "metadata": {},
          "execution_count": 9
        }
      ],
      "source": [
        "documents_weights[5000]"
      ]
    },
    {
      "cell_type": "code",
      "execution_count": null,
      "metadata": {
        "colab": {
          "base_uri": "https://localhost:8080/"
        },
        "id": "g3J9MNvY_Z0b",
        "outputId": "923c52de-586e-464d-ada1-fe24ca2f44d1"
      },
      "outputs": [
        {
          "output_type": "stream",
          "name": "stdout",
          "text": [
            "['تهران', 'گل', 'فوتبال', 'خانه']\n",
            "{'تهران': 0.8304352939339668, 'گل': 0.7515753310390771, 'فوتبال': 0.5672595568347096, 'خانه': 1.2552013267893054}\n"
          ]
        }
      ],
      "source": [
        "def calculate_query_tfidf(query):\n",
        "  query_weights = {}\n",
        "  query_tokens = preprocess_text(query)\n",
        "  print(query_tokens)\n",
        "  for token in query_tokens:\n",
        "    if token in saved_positional_index.keys():\n",
        "      f_td = query_tokens.count(token)\n",
        "      tf = 1 + np.log10(f_td)\n",
        "      n_t = len(saved_positional_index[token][1])\n",
        "      idf = np.log10(N/n_t)\n",
        "      token_weight = tf*idf\n",
        "      query_weights[token] = token_weight\n",
        "  return query_weights\n",
        "print(calculate_query_tfidf('اینجا تهران یعنی گل فوتبال خانه'))"
      ]
    },
    {
      "cell_type": "code",
      "execution_count": null,
      "metadata": {
        "id": "gAhAjN3SEdhi"
      },
      "outputs": [],
      "source": [
        "def ranked_retrival(query, saved_positional_index, documents_weights, saved_preprocessed_news):\n",
        "  scores = {}\n",
        "  for i in range(len(saved_preprocessed_news)):\n",
        "    scores[i] = 0\n",
        "  query_weights = calculate_query_tfidf(query)\n",
        "  query_tokens = list(query_weights.keys())\n",
        "  print(query_tokens)\n",
        "  print(\"******\")\n",
        "  for term in query_tokens:\n",
        "    w_tq = query_weights[term]\n",
        "    term_postings_list = saved_positional_index[term][1].keys()\n",
        "    for doc_id in term_postings_list:\n",
        "      w_td = documents_weights[doc_id][term]\n",
        "      scores[int(doc_id)] += w_tq * w_td\n",
        "  for d, content in enumerate(saved_preprocessed_news):\n",
        "    doc_weight_length = array(list(documents_weights[d].values()))\n",
        "    weight_norm_l2 = norm(doc_weight_length)\n",
        "    scores[d] /= weight_norm_l2\n",
        "  final = sorted(scores.items(), key=lambda item: item[1], reverse=True)\n",
        "  for i in final[:15]:\n",
        "    print(IR_data_news[i[0]]['title'])\n",
        "    print(IR_data_news[i[0]]['url'])\n",
        "  return final[:15]"
      ]
    },
    {
      "cell_type": "code",
      "source": [
        "ranked_retrival('سلام', saved_positional_index, documents_weights, saved_preprocessed_news)"
      ],
      "metadata": {
        "colab": {
          "base_uri": "https://localhost:8080/"
        },
        "id": "oTT9Kx434oCv",
        "outputId": "1e39db7d-3a65-4ec2-82b2-d49bcfb2badf"
      },
      "execution_count": null,
      "outputs": [
        {
          "output_type": "stream",
          "name": "stdout",
          "text": [
            "['سلام']\n",
            "['سلام']\n",
            "******\n",
            "حضور دختر شهید سپهبد سلیمانی در جایگاه سخنرانی سردار سلامی\n",
            "https://www.farsnews.ir/news/14000813000237/حضور-دختر-شهید-سپهبد-سلیمانی-در-جایگاه-سخنرانی-سردار-سلامی\n",
            "سجادی: این صعود را به ملت بزرگ ایران تبریک می‌گویم/امیدوارم از مرحله گروهی جام جهانی صعود کنیم\n",
            "https://www.farsnews.ir/news/14001107000673/سجادی-این-صعود-را-به-ملت-بزرگ-ایران-تبریک-می‌گویم-امیدوارم-از-مرحله\n",
            "فرمانده سپاه واکسن «نورا» را دریافت کرد\n",
            "https://www.farsnews.ir/news/14001012000166/فرمانده-سپاه-واکسن-نورا-را-دریافت-کرد\n",
            "عیادت نماینده رهبر انقلاب از آیت‌الله علوی‌گرگانی\n",
            "https://www.farsnews.ir/news/14001202000692/عیادت-نماینده-رهبر-انقلاب-از-آیت‌الله-علوی‌گرگانی\n",
            "ورزشکار کویتی دست رد به سینه صهیونیست‌ها زد+عکس\n",
            "https://www.farsnews.ir/news/14001102000416/ورزشکار-کویتی-دست-رد-به-سینه-صهیونیست‌ها-زد-عکس\n",
            "فرماندهان ارشد نیروهای مسلح با آرمان‌های امام خمینی(ره) تجدید میثاق کردند\n",
            "https://www.farsnews.ir/news/14001118000270/فرماندهان-ارشد-نیروهای-مسلح-با-آرمان‌های-امام-خمینی-ره-تجدید-میثاق\n",
            "برتری پرگل تراکتور در بازی دوستانه\n",
            "https://www.farsnews.ir/news/14001216000814/برتری-پرگل-تراکتور-در-بازی-دوستانه\n",
            "ابلاغ پیام رئیس جمهور به بانوان فوتبالیست\n",
            "https://www.farsnews.ir/news/14001025000481/ابلاغ-پیام-رئیس-جمهور-به-بانوان-فوتبالیست\n",
            "عبدولی: با بنا پدرکشتگی ندارم/بحث ما این بود انتخابی درست انجام شود\n",
            "https://www.farsnews.ir/news/14001206000108/عبدولی-با-بنا-پدرکشتگی-ندارم-بحث-ما-این-بود-انتخابی-درست-انجام-شود\n",
            "نکونام به هافبک استقلال چه گفت؟/ واکنش نیک‌نفس به برد مقابل فولاد\n",
            "https://www.farsnews.ir/news/14001008000952/نکونام-به-هافبک-استقلال-چه-گفت-واکنش-نیک‌نفس-به-برد-مقابل-فولاد\n",
            "قلعه نویی: فردا یکی  از 13 فینال را پیش رو داریم/امیدواریم با دست پر از بازی با نساجی خارج شویم\n",
            "https://www.farsnews.ir/news/14001128000909/قلعه-نویی-فردا-یکی-از-3-فینال-را-پیش-رو-داریم-امیدواریم-با-دست-پر-از\n",
            "قالیباف: معلولان نشان داده‌اند که معلولیت نمی‌تواند موجب عقب‌افتادن از کارها شود\n",
            "https://www.farsnews.ir/news/14000914000064/قالیباف-معلولان-نشان-داده‌اند-که-معلولیت-نمی‌تواند-موجب-عقب‌افتادن-از\n",
            "مراسم شب شهادت حضرت زهرا(س) در حسینیه امام خمینی برگزار شد\n",
            "https://www.farsnews.ir/news/14001015000973/مراسم-شب-شهادت-حضرت-زهرا-س-در-حسینیه-امام-خمینی-برگزار-شد\n",
            "تجمع روز ملی مبارزه با استکبار جهانی ساعت 10 مقابل سفارت سابق آمریکا آغاز می‌شود\n",
            "https://www.farsnews.ir/news/14000812000967/تجمع-روز-ملی-مبارزه-با-استکبار-جهانی-ساعت-0-مقابل-سفارت-سابق-آمریکا\n",
            "سرلشکر سلامی: نیروی هوافضای سپاه به شکل شتاب‌داری در حال پیشرفت است\n",
            "https://www.farsnews.ir/news/14000804000514/سرلشکر-سلامی-نیروی-هوافضای-سپاه-به-شکل-شتاب‌داری-در-حال-پیشرفت-است\n"
          ]
        },
        {
          "output_type": "execute_result",
          "data": {
            "text/plain": [
              "[(11486, 0.3940041251632665),\n",
              " (3509, 0.32726617697712546),\n",
              " (9185, 0.27069489194428337),\n",
              " (7541, 0.26958545730951605),\n",
              " (4005, 0.26650823217965663),\n",
              " (7920, 0.24752540280801194),\n",
              " (551, 0.23867014530768302),\n",
              " (4592, 0.2378765244345868),\n",
              " (1382, 0.23660655256806176),\n",
              " (5800, 0.23302375844943277),\n",
              " (1963, 0.2322879421537839),\n",
              " (10239, 0.23213128524834856),\n",
              " (9024, 0.2264426814947048),\n",
              " (11499, 0.2191627659099071),\n",
              " (11851, 0.21642402937500696)]"
            ]
          },
          "metadata": {},
          "execution_count": 12
        }
      ]
    },
    {
      "cell_type": "code",
      "source": [
        "ranked_retrival('انرژي هسته‌ سانتریفیوژ‎', saved_positional_index, documents_weights, saved_preprocessed_news)"
      ],
      "metadata": {
        "colab": {
          "base_uri": "https://localhost:8080/"
        },
        "id": "1alB1JKYGF6Q",
        "outputId": "1fd1f7db-a3d9-4949-d5c9-0051d38697ff"
      },
      "execution_count": null,
      "outputs": [
        {
          "output_type": "stream",
          "name": "stdout",
          "text": [
            "['انرژی', 'هسته', 'سانتریفیوژ']\n",
            "['انرژی', 'هسته', 'سانتریفیوژ']\n",
            "******\n",
            "ایران اکنون دست بالا را در مذاکرات دارد/ دلیل تخریب دستاوردهای دولت از سوی غربگرایان\n",
            "https://www.farsnews.ir/news/14000920000546/ایران-اکنون-دست-بالا-را-در-مذاکرات-دارد-دلیل-تخریب-دستاوردهای-دولت-از\n",
            "مرکز پژوهش‌های مجلس: مذاکرات وین به توافقی زودهنگام منجر نمی‌شود\n",
            "https://www.farsnews.ir/news/14000924000773/مرکز-پژوهش‌های-مجلس-مذاکرات-وین-به-توافقی-زودهنگام-منجر-نمی‌شود\n",
            "سازمان‌های مدعی‌ حقوق بشر چگونه مقابل درنده‌خویی حاکمان سعودی سکوت می‌کنند؟\n",
            "https://www.farsnews.ir/news/14001223000865/سازمان‌های-مدعی‌-حقوق-بشر-چگونه-مقابل-درنده‌خویی-حاکمان-سعودی-سکوت\n",
            "همایش «فخر دماوند»| عباسی: شهید فخری‌زاده همواره از متخصصین حمایت می‌کرد\n",
            "https://www.farsnews.ir/news/14000913000631/همایش-فخر-دماوند|-عباسی-شهید-فخری‌زاده-همواره-از-متخصصین-حمایت-می‌کرد\n",
            "دستگاه دیپلماسی دزدی دریایی آمریکا را در مجامع بین‌المللی پیگیری کند/ تقدیر از اقدام مقتدرانه سپاه\n",
            "https://www.farsnews.ir/news/14000812000699/دستگاه-دیپلماسی-دزدی-دریایی-آمریکا-را-در-مجامع-بین‌المللی-پیگیری-کند-\n",
            "چرا غرب مجبور به تمکین از خواسته‌ تهران است؟/ توان هسته‌ای؛ تنها یکی از ظرفیت‌های قدرت‌بخش ایران\n",
            "https://www.farsnews.ir/news/14000919000089/چرا-غرب-مجبور-به-تمکین-از-خواسته‌-تهران-است-توان-هسته‌ای-تنها-یکی-از\n",
            "انقلاب اسلامی؛ جهش علمی، نخبه‌پروری، تمدن اسلامی| هرجا مثل خودروسازی پول بر تعهد غلبه کرد عقب ماندیم\n",
            "https://www.farsnews.ir/news/14001116000704/انقلاب-اسلامی-جهش-علمی-نخبه‌پروری-تمدن-اسلامی|-هرجا-مثل-خودروسازی-پول\n",
            "نامه بیش از ۶٠ تشکل دانشجویی/ درخواست انتصاب رئیسی نخبه و تحول‌خواه برای سازمان فرهنگ و ارتباطات\n",
            "https://www.farsnews.ir/news/14000810000142/نامه-بیش-از-۶٠-تشکل-دانشجویی-درخواست-انتصاب-رئیسی-نخبه-و-تحول‌خواه\n",
            "اذعان اصلاح‌طلبان به رویکرد صحیح تیم مذاکره‌کننده/ محمود صادقی: شرط لغو تحریم‌ها کاملا منطقی است\n",
            "https://www.farsnews.ir/news/14000925000400/اذعان-اصلاح‌طلبان-به-رویکرد-صحیح-تیم-مذاکره‌کننده-محمود-صادقی-شرط\n",
            "تاکید رئیس‌جمهور بر ساخت پنل‌های خورشیدی در یزد\n",
            "https://www.farsnews.ir/news/14000926000149/تاکید-رئیس‌جمهور-بر-ساخت-پنل‌های-خورشیدی-در-یزد\n",
            "آغاز جلسه غیرعلنی مجلس با حضور رئیس سازمان انرژی اتمی\n",
            "https://www.farsnews.ir/news/14001222000080/آغاز-جلسه-غیرعلنی-مجلس-با-حضور-رئیس-سازمان-انرژی-اتمی\n",
            "انقلاب اسلامی، جهاد و مقاومت، ایثار و شهادت| مردم ایران با صدور فرهنگ مقاومت، علیه ظلم ائتلاف جهانی ایجاد کردند\n",
            "https://www.farsnews.ir/news/14001112000693/انقلاب-اسلامی-جهاد-و-مقاومت-ایثار-و-شهادت|-مردم-ایران-با-صدور-فرهنگ\n",
            "رئیس کمیسیون انرژی مجلس: بحثی درباره افزایش قیمت بنزین در دولت و مجلس مطرح نیست\n",
            "https://www.farsnews.ir/news/14000929000757/رئیس-کمیسیون-انرژی-مجلس-بحثی-درباره-افزایش-قیمت-بنزین-در-دولت-و-مجلس\n",
            "رویداد هسته‌های مسئله‌محور بانوان بسیج دانشجویی / اقدامات مجلس در حوزه زنان\n",
            "https://www.farsnews.ir/news/14000914000310/رویداد-هسته‌های-مسئله‌محور-بانوان-بسیج-دانشجویی--اقدامات-مجلس-در-حوزه\n",
            "بررسی مدل‌های اقتصادی کاهش مصرف انرژی در کمیسیون اقتصادی\n",
            "https://www.farsnews.ir/news/14000811000978/بررسی-مدل‌های-اقتصادی-کاهش-مصرف-انرژی-در-کمیسیون-اقتصادی\n"
          ]
        },
        {
          "output_type": "execute_result",
          "data": {
            "text/plain": [
              "[(9896, 0.4946631406488581),\n",
              " (9742, 0.45217847692387086),\n",
              " (6891, 0.39144269231468887),\n",
              " (10257, 0.3860054906668984),\n",
              " (11523, 0.3664306337572922),\n",
              " (9882, 0.3451980841764148),\n",
              " (7795, 0.32990325725339614),\n",
              " (11694, 0.3029370357195009),\n",
              " (9720, 0.30080695230843185),\n",
              " (9702, 0.29757034744410726),\n",
              " (6956, 0.2974506519125601),\n",
              " (8072, 0.2911857643631645),\n",
              " (9591, 0.2850238544149267),\n",
              " (10217, 0.28039726223006384),\n",
              " (11584, 0.26662162588593646)]"
            ]
          },
          "metadata": {},
          "execution_count": 19
        }
      ]
    },
    {
      "cell_type": "code",
      "execution_count": null,
      "metadata": {
        "colab": {
          "base_uri": "https://localhost:8080/"
        },
        "id": "nEeuagfmJSLy",
        "outputId": "0f1bddc5-e496-4c4e-aff6-8a2007770d58"
      },
      "outputs": [
        {
          "name": "stdout",
          "output_type": "stream",
          "text": [
            "['سلام', 'تراکنش', 'رفتن']\n",
            "['سلام', 'تراکنش', 'رفتن']\n",
            "******\n",
            "نظر سازمان خصوصی‌سازی در مورد ساختمان استقلال و پرسپولیس\n",
            "https://www.farsnews.ir/news/14001207001106/نظر-سازمان-خصوصی‌سازی-در-مورد-ساختمان-استقلال-و-پرسپولیس\n",
            "جزئیات جلسه کمیته اقتصاد دیجیتال مجلس درباره «اینماد»/ تأکید بر تدوین مقررات تبادل رمزارز\n",
            "https://www.farsnews.ir/news/14000917000347/جزئیات-جلسه-کمیته-اقتصاد-دیجیتال-مجلس-درباره-اینماد-تأکید-بر-تدوین\n",
            "میرکاظمی: برای بررسی دقیق‌تر بودجه فرهنگی، کمیته‌ای تشکیل شود\n",
            "https://www.farsnews.ir/news/14001105000824/میرکاظمی-برای-بررسی-دقیق‌تر-بودجه-فرهنگی-کمیته‌ای-تشکیل-شود\n",
            "حضور دختر شهید سپهبد سلیمانی در جایگاه سخنرانی سردار سلامی\n",
            "https://www.farsnews.ir/news/14000813000237/حضور-دختر-شهید-سپهبد-سلیمانی-در-جایگاه-سخنرانی-سردار-سلامی\n",
            "مخالفت مجلس با افزایش هزینه تراکنش بانکی در سال ۱۴۰۱\n",
            "https://www.farsnews.ir/news/14001209000666/مخالفت-مجلس-با-افزایش-هزینه-تراکنش-بانکی-در-سال-۱۴۰۱\n",
            "سجادی: این صعود را به ملت بزرگ ایران تبریک می‌گویم/امیدوارم از مرحله گروهی جام جهانی صعود کنیم\n",
            "https://www.farsnews.ir/news/14001107000673/سجادی-این-صعود-را-به-ملت-بزرگ-ایران-تبریک-می‌گویم-امیدوارم-از-مرحله\n",
            "حمایت اعضای کانون هواداران استقلال از منصوریان +فیلم\n",
            "https://www.farsnews.ir/news/14001220000800/حمایت-اعضای-کانون-هواداران-استقلال-از-منصوریان-فیلم\n",
            "دستگاه‌های اجرایی موظف به مسدود کردن حساب­های فرعی خود تا پایان فروردین شدند\n",
            "https://www.farsnews.ir/news/14001217000479/دستگاه‌های-اجرایی-موظف-به-مسدود-کردن-حساب­های-فرعی-خود-تا-پایان\n",
            "فرمانده سپاه واکسن «نورا» را دریافت کرد\n",
            "https://www.farsnews.ir/news/14001012000166/فرمانده-سپاه-واکسن-نورا-را-دریافت-کرد\n",
            "عیادت نماینده رهبر انقلاب از آیت‌الله علوی‌گرگانی\n",
            "https://www.farsnews.ir/news/14001202000692/عیادت-نماینده-رهبر-انقلاب-از-آیت‌الله-علوی‌گرگانی\n",
            "ورزشکار کویتی دست رد به سینه صهیونیست‌ها زد+عکس\n",
            "https://www.farsnews.ir/news/14001102000416/ورزشکار-کویتی-دست-رد-به-سینه-صهیونیست‌ها-زد-عکس\n",
            "بی اطلاعی مدافع برزیلی از وضعیتش در استقلال\n",
            "https://www.farsnews.ir/news/14001219000600/بی-اطلاعی-مدافع-برزیلی-از-وضعیتش-در-استقلال\n",
            "فرماندهان ارشد نیروهای مسلح با آرمان‌های امام خمینی(ره) تجدید میثاق کردند\n",
            "https://www.farsnews.ir/news/14001118000270/فرماندهان-ارشد-نیروهای-مسلح-با-آرمان‌های-امام-خمینی-ره-تجدید-میثاق\n",
            "ترفند پاریس برای ممانعت از انتقال امباپه به رئال\n",
            "https://www.farsnews.ir/news/14001119000699/ترفند-پاریس-برای-ممانعت-از-انتقال-امباپه-به-رئال\n",
            "مخبر: اجرای مصوبات سفرهای استانی خط قرمز دولت است\n",
            "https://www.farsnews.ir/news/14001218000484/مخبر-اجرای-مصوبات-سفرهای-استانی-خط-قرمز-دولت-است\n"
          ]
        },
        {
          "data": {
            "text/plain": [
              "[(1255, 0.5588467520926912),\n",
              " (10046, 0.5081083552061358),\n",
              " (8372, 0.4944402382668654),\n",
              " (11486, 0.3940041251632665),\n",
              " (7342, 0.3823040103471947),\n",
              " (3509, 0.32726617697712546),\n",
              " (244, 0.31746371453486566),\n",
              " (7096, 0.29958580393648654),\n",
              " (9185, 0.27069489194428337),\n",
              " (7541, 0.26958545730951605),\n",
              " (4005, 0.26650823217965663),\n",
              " (342, 0.2513921940591628),\n",
              " (7920, 0.24752540280801194),\n",
              " (2604, 0.24231727035777048),\n",
              " (7056, 0.2415674944288764)]"
            ]
          },
          "execution_count": 15,
          "metadata": {},
          "output_type": "execute_result"
        }
      ],
      "source": [
        "ranked_retrival('سلام تراکنش رفتنی', saved_positional_index, documents_weights, saved_preprocessed_news)"
      ]
    },
    {
      "cell_type": "code",
      "execution_count": null,
      "metadata": {
        "colab": {
          "base_uri": "https://localhost:8080/"
        },
        "id": "VMzCtCmNOmWo",
        "outputId": "6f8c1103-5516-4771-e2fd-1d729b5a5509"
      },
      "outputs": [
        {
          "name": "stderr",
          "output_type": "stream",
          "text": [
            "IOPub data rate exceeded.\n",
            "The notebook server will temporarily stop sending output\n",
            "to the client in order to avoid crashing it.\n",
            "To change this limit, set the config variable\n",
            "`--NotebookApp.iopub_data_rate_limit`.\n",
            "\n",
            "Current values:\n",
            "NotebookApp.iopub_data_rate_limit=1000000.0 (bytes/sec)\n",
            "NotebookApp.rate_limit_window=3.0 (secs)\n",
            "\n"
          ]
        }
      ],
      "source": [
        "# # champions list with tf-idf\n",
        "# champions_list = {}\n",
        "# for term in saved_positional_index.keys():\n",
        "#   docs_weights = []\n",
        "#   for doc_id in documents_weights:\n",
        "#       if term in documents_weights[doc_id].keys():\n",
        "#         docs_weights.append((doc_id, documents_weights[doc_id][term]))\n",
        "#   ranked_weights = sorted(docs_weights, key=lambda item: item[1], reverse=True)[:15]\n",
        "#   champions_list[term] = ranked_weights\n",
        "# print(champions_list)\n",
        "\n",
        "# IOPub data rate exceeded"
      ]
    },
    {
      "cell_type": "code",
      "execution_count": null,
      "metadata": {
        "id": "mnISQMJ2m4O6"
      },
      "outputs": [],
      "source": [
        "# champions list with frequencies\n",
        "def make_champions_list(saved_positional_index, k):\n",
        "  champions_list = {}\n",
        "  for term in saved_positional_index:    \n",
        "    postings = saved_positional_index[term][1] \n",
        "    #print(list(postings.values())[0])  \n",
        "    sorted_docs = sorted(postings.items(), key=lambda x: x[1][0], reverse=True)  \n",
        "    best_docs =  sorted_docs[:min(k,len(sorted_docs))]  \n",
        "    champions_list[term] = [item[0] for item in best_docs]\n",
        "  print(champions_list['سلام'])\n",
        "  return champions_list "
      ]
    },
    {
      "cell_type": "code",
      "execution_count": null,
      "metadata": {
        "colab": {
          "base_uri": "https://localhost:8080/"
        },
        "id": "1Z6J9R-BtVmE",
        "outputId": "de8c83a4-1bd3-4e30-9f68-8e3c04aed54c"
      },
      "outputs": [
        {
          "output_type": "stream",
          "name": "stdout",
          "text": [
            "[9018, 8973, 10824, 8898, 11495, 9701, 10745, 8483, 8882, 8752, 11220, 11489, 9179, 11076, 1382]\n",
            "<class 'dict'>\n"
          ]
        }
      ],
      "source": [
        "champions_lists = make_champions_list(saved_positional_index, 15)\n",
        "print(type(champions_lists))"
      ]
    },
    {
      "cell_type": "code",
      "execution_count": null,
      "metadata": {
        "id": "hPgJhFd0cqyA"
      },
      "outputs": [],
      "source": [
        "# save champions list :\n",
        "with open(\"champions_list.txt\", \"wb\") as myFile2:\n",
        "    pickle.dump(champions_lists, myFile2)"
      ]
    },
    {
      "cell_type": "code",
      "source": [
        "def intersect_results(all_champs):\n",
        "  result = all_champs[0]\n",
        "  for doc_id in all_champs[0]:\n",
        "    #print(doc_id)\n",
        "    if len(all_champs) > 1:\n",
        "      for champion_list in all_champs[1:]:\n",
        "        if doc_id not in champion_list:\n",
        "          if doc_id in result:\n",
        "            result.remove(doc_id)\n",
        "  print(result)\n",
        "  return result"
      ],
      "metadata": {
        "id": "1HqxJT_f2Asp"
      },
      "execution_count": null,
      "outputs": []
    },
    {
      "cell_type": "code",
      "execution_count": null,
      "metadata": {
        "id": "lDe2x5ypa9AG"
      },
      "outputs": [],
      "source": [
        "def champions_list_retrival(query):\n",
        "  ranked_docs = []\n",
        "  query_champions_lists = []\n",
        "  query_tokens = preprocess_text(query)\n",
        "  for token in query_tokens:\n",
        "    if token in champions_lists.keys():\n",
        "      for i in champions_lists[token]:\n",
        "        query_champions_lists.append(i)\n",
        "  ranked_docs = sorted(set(query_champions_lists), key=lambda ele: query_champions_lists.count(ele), reverse=True)\n",
        "  return ranked_docs[:15]"
      ]
    },
    {
      "cell_type": "code",
      "source": [
        "champions_lists['گزارش']"
      ],
      "metadata": {
        "colab": {
          "base_uri": "https://localhost:8080/"
        },
        "id": "Y_E_ux2vRGOm",
        "outputId": "c0d20a5c-551e-466c-c6a9-a91f3698f00b"
      },
      "execution_count": null,
      "outputs": [
        {
          "output_type": "execute_result",
          "data": {
            "text/plain": [
              "[11604,\n",
              " 11449,\n",
              " 9500,\n",
              " 11163,\n",
              " 11774,\n",
              " 11686,\n",
              " 10139,\n",
              " 8960,\n",
              " 7639,\n",
              " 11257,\n",
              " 10663,\n",
              " 12107,\n",
              " 10761,\n",
              " 11224,\n",
              " 7006]"
            ]
          },
          "metadata": {},
          "execution_count": 77
        }
      ]
    },
    {
      "cell_type": "code",
      "source": [
        "champions_lists['فارس']"
      ],
      "metadata": {
        "colab": {
          "base_uri": "https://localhost:8080/"
        },
        "id": "-SJiNWz7RUeC",
        "outputId": "67e8aa5d-d67f-4af8-b27d-1d829f0270da"
      },
      "execution_count": null,
      "outputs": [
        {
          "output_type": "execute_result",
          "data": {
            "text/plain": [
              "[163,\n",
              " 6404,\n",
              " 11697,\n",
              " 1322,\n",
              " 1633,\n",
              " 6755,\n",
              " 7584,\n",
              " 821,\n",
              " 2388,\n",
              " 7744,\n",
              " 5395,\n",
              " 525,\n",
              " 8680,\n",
              " 10183,\n",
              " 9687]"
            ]
          },
          "metadata": {},
          "execution_count": 78
        }
      ]
    },
    {
      "cell_type": "code",
      "source": [
        "champions_list_retrival(' گزارش فارس ')"
      ],
      "metadata": {
        "colab": {
          "base_uri": "https://localhost:8080/"
        },
        "id": "3lxnIvLA1VrV",
        "outputId": "b231907a-a9eb-4686-931f-7e274ae901c8"
      },
      "execution_count": null,
      "outputs": [
        {
          "output_type": "execute_result",
          "data": {
            "text/plain": [
              "[8960,\n",
              " 6404,\n",
              " 10761,\n",
              " 525,\n",
              " 5395,\n",
              " 10139,\n",
              " 11163,\n",
              " 9500,\n",
              " 7584,\n",
              " 163,\n",
              " 11686,\n",
              " 10663,\n",
              " 1322,\n",
              " 11697,\n",
              " 821]"
            ]
          },
          "metadata": {},
          "execution_count": 80
        }
      ]
    },
    {
      "cell_type": "code",
      "source": [
        "ranked_retrival('حقوق کارگران', saved_positional_index, documents_weights, saved_preprocessed_news)"
      ],
      "metadata": {
        "colab": {
          "base_uri": "https://localhost:8080/"
        },
        "id": "FIxI8p-h5Vgo",
        "outputId": "1a8c9d00-4bc2-45b5-92dd-64cef5461e29"
      },
      "execution_count": null,
      "outputs": [
        {
          "output_type": "stream",
          "name": "stdout",
          "text": [
            "['حقوق', 'کارگر']\n",
            "['حقوق', 'کارگر']\n",
            "******\n",
            "رئیس‌جمهور: کسی که به کارگر ظلم می‌کند، صلاحیت ندارد پیمانکار دولت باشد\n",
            "https://www.farsnews.ir/news/14001215000943/رئیس‌جمهور-کسی-که-به-کارگر-ظلم-می‌کند-صلاحیت-ندارد-پیمانکار-دولت-باشد\n",
            "بدری: حقوق کارگر در ادارات و شرکت‌های دولتی رعایت نمی‌شود\n",
            "https://www.farsnews.ir/news/14000812000303/بدری-حقوق-کارگر-در-ادارات-و-شرکت‌های-دولتی-رعایت-نمی‌شود\n",
            "مصوبه کمیسیون اجتماعی برای تعیین حق بیمه کارگران ساختمانی\n",
            "https://www.farsnews.ir/news/14000816000677/مصوبه-کمیسیون-اجتماعی-برای-تعیین-حق-بیمه-کارگران-ساختمانی\n",
            "مجلس تبعات مثبت و منفی افزایش حقوق و دستمزد کارگران را بررسی کند\n",
            "https://www.farsnews.ir/news/14001224000134/مجلس-تبعات-مثبت-و-منفی-افزایش-حقوق-و-دستمزد-کارگران-را-بررسی-کند\n",
            "شوراهای کارگری بدون پشت و پناه هستند\n",
            "https://www.farsnews.ir/news/14000809000321/شوراهای-کارگری-بدون-پشت-و-پناه-هستند\n",
            "اعلام ورزشگاه یک مسابقه از هفته دوازدهم لیگ یک/ خوشه طلایی بدون زمین!\n",
            "https://www.farsnews.ir/news/14001005000516/اعلام-ورزشگاه-یک-مسابقه-از-هفته-دوازدهم-لیگ-یک-خوشه-طلایی-بدون-زمین\n",
            "شکست شاگردان قلعه‌نویی مقابل ذوب آهن\n",
            "https://www.farsnews.ir/news/14001118000767/شکست-شاگردان-قلعه‌نویی-مقابل-ذوب-آهن\n",
            "رئیس جدید سازمان ثبت احوال کشور منصوب شد\n",
            "https://www.farsnews.ir/news/14000928000785/رئیس-جدید-سازمان-ثبت-احوال-کشور-منصوب-شد\n",
            "حقوق مشروع کارگران زن براساس قانون کار رعایت شود\n",
            "https://www.farsnews.ir/news/14001105000247/حقوق-مشروع-کارگران-زن-براساس-قانون-کار-رعایت-شود\n",
            "بررسی ساماندهی و بهبود وضعیت مالی بانک رفاه کارگران در جلسه ستاد هماهنگی اقتصادی دولت\n",
            "https://www.farsnews.ir/news/14000727000565/بررسی-ساماندهی-و-بهبود-وضعیت-مالی-بانک-رفاه-کارگران-در-جلسه-ستاد\n",
            "ساماندهی حقوق و بیمه کارگران اقدام لازم و سریع را می‌طلبد\n",
            "https://www.farsnews.ir/news/14000910000407/ساماندهی-حقوق-و-بیمه-کارگران-اقدام-لازم-و-سریع-را-می‌طلبد\n",
            "پایان کار پیوس در شهرداری آستارا\n",
            "https://www.farsnews.ir/news/14001006000377/پایان-کار-پیوس-در-شهرداری-آستارا\n",
            "مصوبه کمیسیون قضایی مجلس برای برخورداری کارگران اتباع بیگانه از حقوق کارگری\n",
            "https://www.farsnews.ir/news/14000914000648/مصوبه-کمیسیون-قضایی-مجلس-برای-برخورداری-کارگران-اتباع-بیگانه-از-حقوق\n",
            "عضو هیات رئیسه مجلس: مدیران دوتابعیتی باقیمانده از دولت قبل را برکنار کنید\n",
            "https://www.farsnews.ir/news/14000912000182/عضو-هیات-رئیسه-مجلس-مدیران-دوتابعیتی-باقیمانده-از-دولت-قبل-را-برکنار\n",
            "پیروزی نساجی مازندران در بازی تدارکاتی\n",
            "https://www.farsnews.ir/news/14001114000532/پیروزی-نساجی-مازندران-در-بازی-تدارکاتی\n"
          ]
        },
        {
          "output_type": "execute_result",
          "data": {
            "text/plain": [
              "[(7177, 0.6996941965045742),\n",
              " (11549, 0.5858130931539991),\n",
              " (11359, 0.5043483296814466),\n",
              " (6869, 0.4898205812996476),\n",
              " (11731, 0.46882116852662337),\n",
              " (6098, 0.443268594731831),\n",
              " (2688, 0.43059069583436976),\n",
              " (9642, 0.4099638426468446),\n",
              " (8412, 0.4054598969225917),\n",
              " (12065, 0.3965292913557341),\n",
              " (10355, 0.3891589419956344),\n",
              " (6031, 0.38596175344511685),\n",
              " (10201, 0.36221374174973836),\n",
              " (10284, 0.36142221000955044),\n",
              " (2991, 0.3590840743918076)]"
            ]
          },
          "metadata": {},
          "execution_count": 13
        }
      ]
    },
    {
      "cell_type": "code",
      "source": [
        "ranked_retrival(' پول تلاش کارگران', saved_positional_index, documents_weights, saved_preprocessed_news)"
      ],
      "metadata": {
        "colab": {
          "base_uri": "https://localhost:8080/"
        },
        "id": "zQ-BwyY064bF",
        "outputId": "fbdc425b-6295-4f92-f5bf-25ac72979704"
      },
      "execution_count": null,
      "outputs": [
        {
          "output_type": "stream",
          "name": "stdout",
          "text": [
            "['پول', 'تلاش', 'کارگر']\n",
            "['پول', 'تلاش', 'کارگر']\n",
            "******\n",
            "رئیس‌جمهور: کسی که به کارگر ظلم می‌کند، صلاحیت ندارد پیمانکار دولت باشد\n",
            "https://www.farsnews.ir/news/14001215000943/رئیس‌جمهور-کسی-که-به-کارگر-ظلم-می‌کند-صلاحیت-ندارد-پیمانکار-دولت-باشد\n",
            "بدری: حقوق کارگر در ادارات و شرکت‌های دولتی رعایت نمی‌شود\n",
            "https://www.farsnews.ir/news/14000812000303/بدری-حقوق-کارگر-در-ادارات-و-شرکت‌های-دولتی-رعایت-نمی‌شود\n",
            "اعلام ورزشگاه یک مسابقه از هفته دوازدهم لیگ یک/ خوشه طلایی بدون زمین!\n",
            "https://www.farsnews.ir/news/14001005000516/اعلام-ورزشگاه-یک-مسابقه-از-هفته-دوازدهم-لیگ-یک-خوشه-طلایی-بدون-زمین\n",
            "شکست شاگردان قلعه‌نویی مقابل ذوب آهن\n",
            "https://www.farsnews.ir/news/14001118000767/شکست-شاگردان-قلعه‌نویی-مقابل-ذوب-آهن\n",
            "رئیس جدید سازمان ثبت احوال کشور منصوب شد\n",
            "https://www.farsnews.ir/news/14000928000785/رئیس-جدید-سازمان-ثبت-احوال-کشور-منصوب-شد\n",
            "مصوبه کمیسیون اجتماعی برای تعیین حق بیمه کارگران ساختمانی\n",
            "https://www.farsnews.ir/news/14000816000677/مصوبه-کمیسیون-اجتماعی-برای-تعیین-حق-بیمه-کارگران-ساختمانی\n",
            "واکنش عضو کمیسیون اقتصادی مجلس به گرانی لوازم خانگی داخلی/ تولیدکنندگان بدانند کسی به آنها چک سفید امضاء نداده است\n",
            "https://www.farsnews.ir/news/14000801000318/واکنش-عضو-کمیسیون-اقتصادی-مجلس-به-گرانی-لوازم-خانگی-داخلی-\n",
            "بررسی ساماندهی و بهبود وضعیت مالی بانک رفاه کارگران در جلسه ستاد هماهنگی اقتصادی دولت\n",
            "https://www.farsnews.ir/news/14000727000565/بررسی-ساماندهی-و-بهبود-وضعیت-مالی-بانک-رفاه-کارگران-در-جلسه-ستاد\n",
            "پایان کار پیوس در شهرداری آستارا\n",
            "https://www.farsnews.ir/news/14001006000377/پایان-کار-پیوس-در-شهرداری-آستارا\n",
            "شوراهای کارگری بدون پشت و پناه هستند\n",
            "https://www.farsnews.ir/news/14000809000321/شوراهای-کارگری-بدون-پشت-و-پناه-هستند\n",
            "پیروزی نساجی مازندران در بازی تدارکاتی\n",
            "https://www.farsnews.ir/news/14001114000532/پیروزی-نساجی-مازندران-در-بازی-تدارکاتی\n",
            "الهامی در تمرین نساجی شرکت نکرد\n",
            "https://www.farsnews.ir/news/14001201000473/الهامی-در-تمرین-نساجی-شرکت-نکرد\n",
            "رئیسی از کارخانه یخچال‌سازی بوژان لرستان بازدید کرد\n",
            "https://www.farsnews.ir/news/14000919000060/رئیسی-از-کارخانه-یخچال‌سازی-بوژان-لرستان-بازدید-کرد\n",
            "مجلس تبعات مثبت و منفی افزایش حقوق و دستمزد کارگران را بررسی کند\n",
            "https://www.farsnews.ir/news/14001224000134/مجلس-تبعات-مثبت-و-منفی-افزایش-حقوق-و-دستمزد-کارگران-را-بررسی-کند\n",
            "وزیر کار:‌ کم‌تر از یک ماه آینده دومین جلسه شورای اشتغال به ریاست آیت‌الله رئیسی برگزار می‌شود\n",
            "https://www.farsnews.ir/news/14000817000614/وزیر-کار-‌-کم‌تر-از-یک-ماه-آینده-دومین-جلسه-شورای-اشتغال-به-ریاست\n"
          ]
        },
        {
          "output_type": "execute_result",
          "data": {
            "text/plain": [
              "[(7177, 0.5134598825443585),\n",
              " (11549, 0.4501749203787773),\n",
              " (6098, 0.443268594731831),\n",
              " (2688, 0.43059069583436976),\n",
              " (9642, 0.4099638426468446),\n",
              " (11359, 0.4095110745460563),\n",
              " (11904, 0.39870102373257715),\n",
              " (12065, 0.3965292913557341),\n",
              " (6031, 0.38596175344511685),\n",
              " (11731, 0.3832794273922321),\n",
              " (2991, 0.3590840743918076),\n",
              " (1748, 0.3552148396626751),\n",
              " (10001, 0.3521852149988085),\n",
              " (6869, 0.34694857758945985),\n",
              " (11321, 0.3453690997725532)]"
            ]
          },
          "metadata": {},
          "execution_count": 15
        }
      ]
    },
    {
      "cell_type": "code",
      "source": [
        "ranked_retrival('ژولیده', saved_positional_index, documents_weights, saved_preprocessed_news)"
      ],
      "metadata": {
        "colab": {
          "base_uri": "https://localhost:8080/"
        },
        "id": "crE2LOkq7__S",
        "outputId": "91d95478-f201-4387-b85e-7dae31e56acb"
      },
      "execution_count": null,
      "outputs": [
        {
          "output_type": "stream",
          "name": "stdout",
          "text": [
            "['ژولیده']\n",
            "['ژولیده']\n",
            "******\n",
            "آغاز اردوی تیم‌ملی فوتبال هفت نفره از اول اسفند\n",
            "https://www.farsnews.ir/news/14001123000537/آغاز-اردوی-تیم‌ملی-فوتبال-هفت-نفره-از-اول-اسفند\n",
            "اعلام زمان قرعه کشی جام باشگاه های فوتسال آسیا\n",
            "https://www.farsnews.ir/news/14001224001005/اعلام-زمان-قرعه-کشی-جام-باشگاه-های-فوتسال-آسیا\n",
            "سجادی :حضور تماشاگران در  لیگ برتر فوتبال تابع نظر فدراسیون  و سازمان لیگ است\n",
            "https://www.farsnews.ir/news/14001224000982/سجادی-حضور-تماشاگران-در-لیگ-برتر-فوتبال-تابع-نظر-فدراسیون-و-سازمان\n",
            "محل برگزاری نشست‌های خبری سرخابی‌ها؛ مجیدی در سازمان لیگ، گل‌محمدی در تمرین پرسپولیس\n",
            "https://www.farsnews.ir/news/14001224000971/محل-برگزاری-نشست‌های-خبری-سرخابی‌ها-مجیدی-در-سازمان-لیگ-گل‌محمدی-در\n",
            "ماجدی در نشست با صالحی امیری: امیدوارم در این دوره تیم  المپیک موفق شود\n",
            "https://www.farsnews.ir/news/14001224000964/ماجدی-در-نشست-با-صالحی-امیری-امیدوارم-در-این-دوره-تیم-المپیک-موفق\n",
            "لیگ‌برتر بسکتبال|‌ نخستین پیروزی شهرداری گرگان و ذوب‌آهن در پلی‌آف\n",
            "https://www.farsnews.ir/news/14001224000947/لیگ‌برتر-بسکتبال|‌-نخستین-پیروزی-شهرداری-گرگان-و-ذوب‌آهن-در-پلی‌آف\n",
            "مسابقات تنیس روی میز فیدر قطر| هر4 بانوی ملی پوش ایران حذف شدند\n",
            "https://www.farsnews.ir/news/14001224000916/مسابقات-تنیس-روی-میز-فیدر-قطر|-هر4-بانوی-ملی-پوش-ایران-حذف-شدند\n",
            "اعلام برنامه نشست خبری گل محمدی/ مجیدی هم باید به محل تمرین پرسپولیس برود!\n",
            "https://www.farsnews.ir/news/14001224000865/اعلام-برنامه-نشست-خبری-گل-محمدی-مجیدی-هم-باید-به-محل-تمرین-پرسپولیس\n",
            "احضار مدیران پرسپولیس به کمیته انضباطی  پیش از دربی\n",
            "https://www.farsnews.ir/news/14001224000842/احضار-مدیران-پرسپولیس-به-کمیته-انضباطی-پیش-از-دربی\n",
            "مدیر بی‌دستاورد، رئیس شد/ روزگار تلخ‌تر از تلخ برای والیبال ارومیه؟\n",
            "https://www.farsnews.ir/news/14001224000811/مدیر-بی‌دستاورد-رئیس-شد-روزگار-تلخ‌تر-از-تلخ-برای-والیبال-ارومیه\n",
            "خبر خوب برای استقلال؛ دانشگر با تیم تمرین کرد\n",
            "https://www.farsnews.ir/news/14001224000819/خبر-خوب-برای-استقلال-دانشگر-با-تیم-تمرین-کرد\n",
            "تراکتور در آستانه بازگشت به خانه اصلی/ نواقص ورزشگاه یادگار امام بررسی شد\n",
            "https://www.farsnews.ir/news/14001224000804/تراکتور-در-آستانه-بازگشت-به-خانه-اصلی-نواقص-ورزشگاه-یادگار-امام-بررسی\n",
            "تورنمنت شش جانبه تایلند| پیروزی پر گل  فوتسالیست‌های  جوان ایران برابر مغولستان\n",
            "https://www.farsnews.ir/news/14001224000800/تورنمنت-شش-جانبه-تایلند|-پیروزی-پر-گل-فوتسالیست‌های-جوان-ایران-برابر\n",
            "گزارش تمرین پرسپولیس| روحیه بالای شاگردان گل محمدی در آستانه دربی\n",
            "https://www.farsnews.ir/news/14001224000789/گزارش-تمرین-پرسپولیس|-روحیه-بالای-شاگردان-گل-محمدی-در-آستانه-دربی\n",
            "پولادگر: درخشش‌های هندبال مایه آبرو و اعتبار بین‌المللی است/ پاکدل: زودتر از برنامه به اهداف خود رسیدیم\n",
            "https://www.farsnews.ir/news/14001224000731/پولادگر-درخشش‌های-هندبال-مایه-آبرو-و-اعتبار-بین‌المللی-است-پاکدل-\n"
          ]
        },
        {
          "output_type": "execute_result",
          "data": {
            "text/plain": [
              "[(2341, 0.8355763517172049),\n",
              " (0, 0.0),\n",
              " (1, 0.0),\n",
              " (2, 0.0),\n",
              " (3, 0.0),\n",
              " (4, 0.0),\n",
              " (5, 0.0),\n",
              " (6, 0.0),\n",
              " (7, 0.0),\n",
              " (8, 0.0),\n",
              " (9, 0.0),\n",
              " (10, 0.0),\n",
              " (11, 0.0),\n",
              " (12, 0.0),\n",
              " (13, 0.0)]"
            ]
          },
          "metadata": {},
          "execution_count": 16
        }
      ]
    },
    {
      "cell_type": "code",
      "source": [
        "ranked_retrival('روند پیچیده ', saved_positional_index, documents_weights, saved_preprocessed_news)"
      ],
      "metadata": {
        "colab": {
          "base_uri": "https://localhost:8080/"
        },
        "id": "K4xCdLWW8dUH",
        "outputId": "3460a6bc-2c1a-4d3a-83f0-b885305b1107"
      },
      "execution_count": null,
      "outputs": [
        {
          "output_type": "stream",
          "name": "stdout",
          "text": [
            "['روند', 'پیچیده']\n",
            "['روند', 'پیچیده']\n",
            "******\n",
            "مدیرعامل تراکتور:مشکلی بابت کارت بازی بازیکنان جدید نداریم/نگران 7کرونایی هستیم\n",
            "https://www.farsnews.ir/news/14001123000396/مدیرعامل-تراکتور-مشکلی-بابت-کارت-بازی-بازیکنان-جدید-نداریم-نگران\n",
            "اعلام آخرین وضعیت صیادمنش/آینده مهاجم تیم ملی پیچیده شد+عکس\n",
            "https://www.farsnews.ir/news/14001007000079/اعلام-آخرین-وضعیت-صیادمنش-آینده-مهاجم-تیم-ملی-پیچیده-شد-عکس\n",
            "حزب کارگزاران دولت سایه تشکیل می دهد\n",
            "https://www.farsnews.ir/news/14000910000907/حزب-کارگزاران-دولت-سایه-تشکیل-می-دهد\n",
            "اقدام متفاوت کمیسیون تلفیق/ جداول بودجه امروز برای اولین بار شفاف می‌شود\n",
            "https://www.farsnews.ir/news/14001214000859/اقدام-متفاوت-کمیسیون-تلفیق-جداول-بودجه-امروز-برای-اولین-بار-شفاف\n",
            "المپیک زمستانی پکن| نمونه B تست دوپینگ ساوه‌شمشکی هم مثبت شد\n",
            "https://www.farsnews.ir/news/14001123000260/المپیک-زمستانی-پکن|-نمونه-B-تست-دوپینگ-ساوه‌شمشکی-هم-مثبت-شد\n",
            "نویدکیا: آلومینیوم اراک  لیگ را شوکه کرده است/سپاهان برای ماندن در بالای جدول امتیاز نیاز دارد\n",
            "https://www.farsnews.ir/news/14001022000895/نویدکیا-آلومینیوم-اراک-لیگ-را-شوکه-کرده-است-سپاهان-برای-ماندن-در\n",
            "هلاکت تعدادی از اشرار مسلح در درگیری با رزمندگان قرارگاه قدس سپاه\n",
            "https://www.farsnews.ir/news/14001011000724/هلاکت-تعدادی-از-اشرار-مسلح-در-درگیری-با-رزمندگان-قرارگاه-قدس-سپاه\n",
            "اعضای کمیسیون امنیت ملی از مرکز ملی عملیات امنیت بازدید کردند\n",
            "https://www.farsnews.ir/news/14000824000561/اعضای کمیسیون-امنیت-ملی-از-مرکز-ملی-عملیات-امنیت-بازدید-کردند\n",
            "کلانتری: نوید بازی خوب برابر ذوب‌آهن را می‌دهم/چهارمین تیمی هستیم که بیشترین ضربه را از داوری دیده‌ایم\n",
            "https://www.farsnews.ir/news/14001012000940/کلانتری-نوید-بازی-خوب-برابر-ذوب‌آهن-را-می‌دهم-چهارمین-تیمی-هستیم-که\n",
            "ستاره منچستریونایتد گزینه جانشینی امباپه شد\n",
            "https://www.farsnews.ir/news/14001217000344/ستاره-منچستریونایتد-گزینه-جانشینی-امباپه-شد\n",
            "راهبردهای احتمالی آمریکا در قبال تحریم‌ها و توصیه‌هایی به دولت سیزدهم\n",
            "https://www.farsnews.ir/news/14000727000230/راهبردهای-احتمالی-آمریکا-در-قبال-تحریم‌ها-و-توصیه‌هایی-به-دولت-سیزدهم\n",
            "باید مشکلات مربوط به انتقال سوابق بیمه رفع شود\n",
            "https://www.farsnews.ir/news/14001106000216/باید-مشکلات-مربوط-به-انتقال-سوابق-بیمه-رفع-شود\n",
            "رئیس‌جمهور تحول را از ساختار اداری کشور آغاز کند\n",
            "https://www.farsnews.ir/news/14000910000455/رئیس‌جمهور-تحول-را-از-ساختار-اداری-کشور-آغاز-کند\n",
            "شما شرم‌آور هستید؛ دورتموند «مزخرف» بازی کرد +عکس\n",
            "https://www.farsnews.ir/news/14001129000159/شما-شرم‌آور-هستید-دورتموند-مزخرف-بازی-کرد-عکس\n",
            "رئیس بسیج اساتید تهران: برنامه های رسانه ملی را با حضور کارشناسانه اساتید تقویت کنیم\n",
            "https://www.farsnews.ir/news/14000930000483/رئیس-بسیج-اساتید-تهران-برنامه-های-رسانه-ملی-را-با-حضور-کارشناسانه\n"
          ]
        },
        {
          "output_type": "execute_result",
          "data": {
            "text/plain": [
              "[(2353, 0.33854255764231894),\n",
              " (5986, 0.31629015901098806),\n",
              " (10322, 0.28436889074617827),\n",
              " (7215, 0.2783345277937334),\n",
              " (2369, 0.2691320744459453),\n",
              " (4808, 0.2662317091096952),\n",
              " (9200, 0.23287397604706508),\n",
              " (11023, 0.2326333175324468),\n",
              " (5558, 0.23211542066761992),\n",
              " (506, 0.22713845971647886),\n",
              " (12085, 0.2266708789076457),\n",
              " (8351, 0.2229219440765728),\n",
              " (10354, 0.21585110917893874),\n",
              " (1943, 0.21401516234266663),\n",
              " (9587, 0.21294573989195462)]"
            ]
          },
          "metadata": {},
          "execution_count": 18
        }
      ]
    }
  ],
  "metadata": {
    "colab": {
      "provenance": []
    },
    "kernelspec": {
      "display_name": "Python 3",
      "name": "python3"
    },
    "language_info": {
      "name": "python"
    }
  },
  "nbformat": 4,
  "nbformat_minor": 0
}